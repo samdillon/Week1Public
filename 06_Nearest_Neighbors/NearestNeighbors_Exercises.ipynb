{
 "cells": [
  {
   "cell_type": "markdown",
   "source": "# Nearest Neighbors Exercises",
   "metadata": {
    "colab_type": "text",
    "id": "3hHvV20eD58o",
    "cell_id": "00000-c2e7636f-01eb-4539-9615-f462e6f2f682",
    "deepnote_cell_type": "markdown"
   }
  },
  {
   "cell_type": "code",
   "metadata": {
    "colab_type": "code",
    "id": "z1h_AAj_D4kX",
    "colab": {},
    "cell_id": "00001-f904f2ff-f49d-4cf5-a2bf-8f8d4d09a9f4",
    "deepnote_to_be_reexecuted": false,
    "source_hash": "ab7040a7",
    "execution_start": 1625523190532,
    "execution_millis": 0,
    "deepnote_cell_type": "code"
   },
   "source": "import numpy as np\nimport pandas as po\nimport matplotlib.pyplot as plt\n\nfrom sklearn.model_selection import train_test_split\nfrom sklearn.neighbors import KNeighborsClassifier\nfrom sklearn.metrics import accuracy_score",
   "outputs": [],
   "execution_count": null
  },
  {
   "cell_type": "markdown",
   "source": "## Problem 1\n\nConsider the following simple data-set:\n\n<img src=\"https://github.com/BeaverWorksMedlytics2020/Data_Public/raw/master/Images/Week1/knn_notebook_example_table.png\" alt=\"Example Table\" width=\"600\">\n\nNow consider the Sample:\n    $$X= 4, Y = 4, Z = 2$$",
   "metadata": {
    "id": "87tmgzNMb9tV",
    "colab_type": "text",
    "cell_id": "00002-2beb2222-d4f3-4315-93f0-65c78469f97c",
    "deepnote_cell_type": "markdown"
   }
  },
  {
   "cell_type": "markdown",
   "source": "Using kNN, what is the class for this sample for $k = 1$ and $k = 3?$ Use the Eucledian metric.\n\n(YOUR ANSWER HERE)",
   "metadata": {
    "colab_type": "text",
    "id": "gqjait37Qws0",
    "cell_id": "00003-18cde72a-8ca0-4c0d-b013-47e1989dbbb6",
    "deepnote_cell_type": "markdown"
   }
  },
  {
   "cell_type": "markdown",
   "source": "## Problem 2\nEarlier in the tutorial we were told that kNN depends on several factors, one of them being $k$. Consider the following datasets below, find the optimal value of $k$ that gives the highest accuracy. Visualize your data! Can you come up with some rule for getting a good idea of what $k$ is? \n\nHINT: look for a pattern/bound! Answer should be in terms of the size of the dataset $n$. ",
   "metadata": {
    "colab_type": "text",
    "id": "MtE0uiKuTWsI",
    "cell_id": "00004-1e5b3c66-acca-4989-9b28-d291cabf73b5",
    "deepnote_cell_type": "markdown"
   }
  },
  {
   "cell_type": "code",
   "metadata": {
    "id": "aapncOgUo_5r",
    "colab_type": "code",
    "colab": {},
    "cell_id": "00005-5ace4d9e-53cb-4a41-984a-68dc97516054",
    "deepnote_to_be_reexecuted": false,
    "source_hash": "4a5b7a34",
    "execution_start": 1625523193537,
    "execution_millis": 29,
    "deepnote_cell_type": "code"
   },
   "source": "# Solve this problem for each of these datasets\nfrom sklearn.datasets import load_iris \nfrom sklearn.datasets import load_breast_cancer\nfrom sklearn.datasets import load_wine \n\n# Load those datasets into some easily accessible variables\n# The datasets are already normalized, so that saves us some steps!\niris = load_iris()                    #iris dataset: size = 150\nbreast_cancer = load_breast_cancer()  #diabetes dataset: size = 569\nwine = load_wine()                    #wine dataset: size 178\n\n# This function will perfom KNN classification for a specified k\ndef split_train_test_dataset(dataset, k, test_size=0.2):\n    \"\"\"Loads and performs KNN classification on the provided dataset\"\"\"\n    # Grab and split the dataset\n    X_train, X_val, y_train, y_val = train_test_split(\n        dataset.data, dataset.target, test_size=test_size, random_state=0)\n\n    # Build a KNN classifier, fit it and test its predictions\n    knn = KNeighborsClassifier(n_neighbors=k)\n    knn.fit(X_train, y_train)\n    print(\"Validation Accuracy is {:5.1%}\".format(\n        accuracy_score(y_val, knn.predict(X_val))))\n",
   "outputs": [],
   "execution_count": null
  },
  {
   "cell_type": "code",
   "metadata": {
    "id": "lQk-b90Kgz-S",
    "colab_type": "code",
    "colab": {},
    "cell_id": "00006-e64c614d-ef64-4987-be50-dc0a108ff803",
    "deepnote_cell_type": "code"
   },
   "source": "# YOUR CODE HERE",
   "execution_count": null,
   "outputs": []
  },
  {
   "cell_type": "markdown",
   "source": "Write a single mathematical expression describing the relationship you found between $n$ (the size of the dataset) and $k$ (the number of datapoints used to classify each validation datum).",
   "metadata": {
    "id": "n1_EbFlqzjAT",
    "colab_type": "text",
    "cell_id": "00007-9e31e134-f849-45d6-980b-81094c4e074f",
    "deepnote_cell_type": "markdown"
   }
  },
  {
   "cell_type": "markdown",
   "source": "(YOUR ANSWER HERE)",
   "metadata": {
    "id": "PbbrX6rGq6CV",
    "colab_type": "text",
    "cell_id": "00008-01630e1e-58e1-480d-b182-928216e4dc1d",
    "deepnote_cell_type": "markdown"
   }
  },
  {
   "cell_type": "markdown",
   "source": "## Problem 3\nNow, we will **be writing our k-NNA**. Recall that we said a kNN is comprised of a predictions and using those predictions to classify the data. Here we will try to mimic sklearn's kNN methods. We will be using the Pima diabetes dataset. ",
   "metadata": {
    "colab_type": "text",
    "id": "-vDZy0F3eyeH",
    "cell_id": "00009-6b713464-0106-4edd-946f-132b72febf84",
    "deepnote_cell_type": "markdown"
   }
  },
  {
   "cell_type": "markdown",
   "source": "### Loading and splitting data",
   "metadata": {
    "id": "8YFfjG9G3lVO",
    "colab_type": "text",
    "cell_id": "00010-84a30058-7b6a-4895-b6d3-3c2289005067",
    "deepnote_cell_type": "markdown"
   }
  },
  {
   "cell_type": "code",
   "metadata": {
    "colab_type": "code",
    "id": "zbs8WICFgITd",
    "colab": {},
    "cell_id": "00011-1c057c97-58b6-4874-80b7-10c7451fa29c",
    "deepnote_to_be_reexecuted": false,
    "source_hash": "ac1b2bb9",
    "execution_start": 1625523195944,
    "execution_millis": 165,
    "deepnote_cell_type": "code"
   },
   "source": "url = \"https://github.com/BeaverWorksMedlytics2020/Data_Public/raw/master/NotebookExampleData/Week1/diabetes.csv\"\nnames = ['preg', 'plas', 'pres', 'skin', 'test', 'mass', 'pedi', 'age', 'class']\ndata = po.read_csv(url, names=names)\n\n# Dropping NaN rows\ninvalid = ['plas', 'pres', 'skin', 'test', 'mass']\n\nfor i in invalid:\n    data[i].replace(to_replace=0, value=np.nan, inplace=True)\n    \ndata = data.dropna(axis=0).reset_index(drop=True)",
   "outputs": [],
   "execution_count": null
  },
  {
   "cell_type": "markdown",
   "source": "Now, let's clearly define which columns will act as explanatory variables, and which column will be the target value, and split the dataset between your training data and testing data. Let's try an 80-20 split and use sklearn's [train_test_split](http://scikit-learn.org/stable/modules/generated/sklearn.model_selection.train_test_split.html) method (set random_state = 0 so we get the same output each time).",
   "metadata": {
    "id": "aSUwHL6-4P2F",
    "colab_type": "text",
    "cell_id": "00012-edbb2bcc-a36e-4f35-82dc-f76f34842e05",
    "deepnote_cell_type": "markdown"
   }
  },
  {
   "cell_type": "code",
   "metadata": {
    "colab_type": "code",
    "id": "9MXZjxRcgy78",
    "colab": {
     "base_uri": "https://localhost:8080/",
     "height": 68
    },
    "outputId": "91bb35f5-9c29-4c6b-dbba-7a0644a3e2ca",
    "cell_id": "00013-92ad0b5c-3054-4097-b3ae-6285d5b03669",
    "deepnote_to_be_reexecuted": false,
    "source_hash": "d98a6cd6",
    "execution_start": 1625523198276,
    "execution_millis": 8,
    "deepnote_cell_type": "code"
   },
   "source": "# Columns we will use to make predictions with (features!) feel free to play around with these\nX_cols = ['preg', 'plas', 'pres', 'skin', 'test', 'mass', 'pedi', 'age']\n\n# Column that we want to predict (the labels)\ny_col = 'class'\n\n# 80-20 train-test split of datset\ntest_size = 0.2\nX_train, X_test, y_train, y_test = train_test_split(data[X_cols], data[y_col], test_size=test_size, random_state=0)\n\n# Further split X and y of training into training and validation sets\nX_train, X_val, y_train, y_val = train_test_split(X_train, y_train, test_size=test_size, random_state=0)\n\nprint('There are {} training samples with {} features and {} associated classification labels'.format(*X_train.shape, *y_train.shape))\nprint('There are {} validation samples with {} features and {} associated classification labels'.format(*X_val.shape, *y_val.shape))\nprint('There are {} test samples with {} features and {} associated classification labels'.format(*X_test.shape, *y_test.shape))",
   "outputs": [
    {
     "name": "stdout",
     "text": "There are 250 training samples with 8 features and 250 associated classification labels\nThere are 63 validation samples with 8 features and 63 associated classification labels\nThere are 79 test samples with 8 features and 79 associated classification labels\n",
     "output_type": "stream"
    }
   ],
   "execution_count": null
  },
  {
   "cell_type": "markdown",
   "source": "### Normalizing Data\n\nLet's not forget to normalize the data! We'll use sklearn's StandardScaler normalization like we did before to normalize the training **and** validation/data.",
   "metadata": {
    "colab_type": "text",
    "id": "De_EJnYKgz_6",
    "cell_id": "00014-d3d19f71-9aab-4cb2-a5bc-bd51c048aaab",
    "deepnote_cell_type": "markdown"
   }
  },
  {
   "cell_type": "code",
   "metadata": {
    "colab_type": "code",
    "id": "6PD6-ibriBJO",
    "colab": {},
    "cell_id": "00015-3c4b33fb-bf48-4a47-888f-26f963243ca1",
    "deepnote_to_be_reexecuted": false,
    "source_hash": "844e8ff7",
    "execution_start": 1625523200605,
    "execution_millis": 3,
    "deepnote_cell_type": "code"
   },
   "source": "from sklearn.preprocessing import StandardScaler\n\nscaler = StandardScaler()\n\nfor i in list(X_train):\n    feature_data_train = X_train[i].values.reshape(-1, 1)\n    scaler.fit(feature_data_train)\n    X_train[i] = scaler.transform(feature_data_train)\n\nfor j in list(X_test):\n    feature_data_test = X_test[j].values.reshape(-1, 1)\n    scaler.fit(feature_data_test)\n    X_test[j] = scaler.transform(feature_data_test)\n    \nfor k in list(X_val):\n    feature_data_val = X_val[k].values.reshape(-1, 1)\n    scaler.fit(feature_data_val)\n    X_val[k] = scaler.transform(feature_data_val)",
   "outputs": [],
   "execution_count": null
  },
  {
   "cell_type": "markdown",
   "source": "### Writing your kNN\n\nNow for the fun part! Fill in the 3 following methods, euclidean_dist(), predict(), and knn().\n\nThe predict method that we'll make below needs to: \n1. Compute the euclidean distance between the “new” observation and all the data points in the training set. \n2. Assign the corresponding label to the observation\n3. Select the k nearest ones and perform a \"majority vote\"",
   "metadata": {
    "colab_type": "text",
    "id": "hnv61aiiitxU",
    "cell_id": "00016-936a23e0-5940-4cd3-bfbf-f65294228af4",
    "deepnote_cell_type": "markdown"
   }
  },
  {
   "cell_type": "code",
   "metadata": {
    "id": "xXkIw6zN3lVb",
    "colab_type": "code",
    "colab": {},
    "cell_id": "00017-14b68561-0190-4b35-9b04-3b33196a69b9",
    "deepnote_to_be_reexecuted": false,
    "source_hash": "9c4668ff",
    "execution_start": 1625523202603,
    "execution_millis": 4,
    "deepnote_cell_type": "code"
   },
   "source": "# Euclidean distance function from tutorial\ndef euclidean_dist(datum1, datum2):\n    inner_val = 0.0\n    \n    for g in range(datum1.shape[0]):\n        inner_val += (datum1[g]- datum2[g]) ** 2\n    \n    distance = np.sqrt(inner_val)\n    return(distance)",
   "outputs": [],
   "execution_count": null
  },
  {
   "cell_type": "code",
   "metadata": {
    "colab_type": "code",
    "id": "FqJkm_ytjFgM",
    "colab": {},
    "cell_id": "00018-7a3be6d5-55b3-4735-9047-9e5f47a66054",
    "deepnote_to_be_reexecuted": false,
    "source_hash": "5b9fbd70",
    "execution_start": 1625523203151,
    "execution_millis": 1,
    "deepnote_cell_type": "code"
   },
   "source": "from collections import Counter\n\ndef predict(x_training, y_training, x_test_sample, k):\n    \n    # Create list for distances and targets\n    distances = []\n    targets = []\n\n    # YOUR CODE HERE",
   "outputs": [],
   "execution_count": null
  },
  {
   "cell_type": "code",
   "metadata": {
    "id": "BguZLcRa3lVh",
    "colab_type": "code",
    "colab": {},
    "cell_id": "00019-0630ca1e-0300-4f0e-8a92-1b703be12bbe",
    "deepnote_to_be_reexecuted": false,
    "source_hash": "320c8ae7",
    "execution_start": 1625523203819,
    "execution_millis": 5,
    "deepnote_cell_type": "code"
   },
   "source": "def knn(x_training, y_training, x_testing, k):\n    \n    # YOUR CODE HERE",
   "outputs": [
    {
     "output_type": "error",
     "ename": "SyntaxError",
     "evalue": "unexpected EOF while parsing (<ipython-input-11-c6f59b9622e0>, line 3)",
     "traceback": [
      "\u001b[0;36m  File \u001b[0;32m\"<ipython-input-11-c6f59b9622e0>\"\u001b[0;36m, line \u001b[0;32m3\u001b[0m\n\u001b[0;31m    # YOUR CODE HERE\u001b[0m\n\u001b[0m                    ^\u001b[0m\n\u001b[0;31mSyntaxError\u001b[0m\u001b[0;31m:\u001b[0m unexpected EOF while parsing\n"
     ]
    }
   ],
   "execution_count": null
  },
  {
   "cell_type": "markdown",
   "source": "When done, test your code by running the methods here!",
   "metadata": {
    "colab_type": "text",
    "id": "4uhQZPIpjdo9",
    "cell_id": "00020-cfffd903-553f-4ecc-8220-5636a082d81a",
    "deepnote_cell_type": "markdown"
   }
  },
  {
   "cell_type": "code",
   "metadata": {
    "colab_type": "code",
    "id": "AHRJXVr7jcao",
    "colab": {},
    "cell_id": "00021-89b4af94-0959-47b8-ac7a-1c2f48e40679",
    "deepnote_to_be_reexecuted": false,
    "source_hash": "411446fa",
    "execution_start": 1625523206429,
    "execution_millis": 12,
    "deepnote_cell_type": "code"
   },
   "source": "from sklearn.metrics import accuracy_score\nimport time\n\nstart = time.time()\npredictions_slow = knn(X_train, y_train, X_val, k=5)\n\nprint('Took {} seconds'.format(time.time() - start))\nprint(\"Validation Accuracy is \", accuracy_score(y_val,predictions_slow)*100)",
   "outputs": [
    {
     "output_type": "error",
     "ename": "NameError",
     "evalue": "name 'knn' is not defined",
     "traceback": [
      "\u001b[0;31m---------------------------------------------------------------------------\u001b[0m",
      "\u001b[0;31mNameError\u001b[0m                                 Traceback (most recent call last)",
      "\u001b[0;32m<ipython-input-12-c8ce05bea58f>\u001b[0m in \u001b[0;36m<module>\u001b[0;34m\u001b[0m\n\u001b[1;32m      3\u001b[0m \u001b[0;34m\u001b[0m\u001b[0m\n\u001b[1;32m      4\u001b[0m \u001b[0mstart\u001b[0m \u001b[0;34m=\u001b[0m \u001b[0mtime\u001b[0m\u001b[0;34m.\u001b[0m\u001b[0mtime\u001b[0m\u001b[0;34m(\u001b[0m\u001b[0;34m)\u001b[0m\u001b[0;34m\u001b[0m\u001b[0;34m\u001b[0m\u001b[0m\n\u001b[0;32m----> 5\u001b[0;31m \u001b[0mpredictions_slow\u001b[0m \u001b[0;34m=\u001b[0m \u001b[0mknn\u001b[0m\u001b[0;34m(\u001b[0m\u001b[0mX_train\u001b[0m\u001b[0;34m,\u001b[0m \u001b[0my_train\u001b[0m\u001b[0;34m,\u001b[0m \u001b[0mX_val\u001b[0m\u001b[0;34m,\u001b[0m \u001b[0mk\u001b[0m\u001b[0;34m=\u001b[0m\u001b[0;36m5\u001b[0m\u001b[0;34m)\u001b[0m\u001b[0;34m\u001b[0m\u001b[0;34m\u001b[0m\u001b[0m\n\u001b[0m\u001b[1;32m      6\u001b[0m \u001b[0;34m\u001b[0m\u001b[0m\n\u001b[1;32m      7\u001b[0m \u001b[0mprint\u001b[0m\u001b[0;34m(\u001b[0m\u001b[0;34m'Took {} seconds'\u001b[0m\u001b[0;34m.\u001b[0m\u001b[0mformat\u001b[0m\u001b[0;34m(\u001b[0m\u001b[0mtime\u001b[0m\u001b[0;34m.\u001b[0m\u001b[0mtime\u001b[0m\u001b[0;34m(\u001b[0m\u001b[0;34m)\u001b[0m \u001b[0;34m-\u001b[0m \u001b[0mstart\u001b[0m\u001b[0;34m)\u001b[0m\u001b[0;34m)\u001b[0m\u001b[0;34m\u001b[0m\u001b[0;34m\u001b[0m\u001b[0m\n",
      "\u001b[0;31mNameError\u001b[0m: name 'knn' is not defined"
     ]
    }
   ],
   "execution_count": null
  },
  {
   "cell_type": "markdown",
   "source": "Check sklearn's predictions on validation data from the tutorial notebook and make sure they match yours. Sklearn is faster, but you should get the same answers.",
   "metadata": {
    "id": "2a51RcbJ3lVq",
    "colab_type": "text",
    "cell_id": "00022-4a85eefc-cd74-4a60-894d-aa845d36111f",
    "deepnote_cell_type": "markdown"
   }
  },
  {
   "cell_type": "markdown",
   "source": "<a style='text-decoration:none;line-height:16px;display:flex;color:#5B5B62;padding:10px;justify-content:end;' href='https://deepnote.com?utm_source=created-in-deepnote-cell&projectId=ae221d39-921e-4e1a-a30c-d47650081509' target=\"_blank\">\n<img alt='Created in deepnote.com' style='display:inline;max-height:16px;margin:0px;margin-right:7.5px;' src='data:image/svg+xml;base64,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' > </img>\nCreated in <span style='font-weight:600;margin-left:4px;'>Deepnote</span></a>",
   "metadata": {
    "tags": [],
    "created_in_deepnote_cell": true,
    "deepnote_cell_type": "markdown"
   }
  }
 ],
 "nbformat": 4,
 "nbformat_minor": 0,
 "metadata": {
  "colab": {
   "name": "NearestNeighbors_Exercises",
   "provenance": [],
   "collapsed_sections": []
  },
  "kernelspec": {
   "display_name": "Python 3",
   "language": "python",
   "name": "python3"
  },
  "language_info": {
   "codemirror_mode": {
    "name": "ipython",
    "version": 3
   },
   "file_extension": ".py",
   "mimetype": "text/x-python",
   "name": "python",
   "nbconvert_exporter": "python",
   "pygments_lexer": "ipython3",
   "version": "3.7.3"
  },
  "deepnote_notebook_id": "9b6a0168-bffb-4750-b7a9-565c6addf8e5",
  "deepnote": {},
  "deepnote_execution_queue": []
 }
}