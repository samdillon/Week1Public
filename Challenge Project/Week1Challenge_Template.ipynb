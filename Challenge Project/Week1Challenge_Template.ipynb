{
 "cells": [
  {
   "cell_type": "markdown",
   "source": "# Week 1 Challenge Project Template\n\nYou are not required to use this template, but we are providing it for your reference to help get you started and stay organized!  We recommend that you define functions for each step to make it easier to track what's going on in the code (especially if different team members are working on different pieces of the project).\n\nMost of the functions provided are just examples!  Feel free to replace them with something better!  This is just a minimum working example.",
   "metadata": {
    "colab_type": "text",
    "id": "XQDE8pPCpFRb",
    "cell_id": "00000-70655345-71fb-4b7b-8cf4-b9e8dbc838ce",
    "deepnote_cell_type": "markdown"
   }
  },
  {
   "cell_type": "markdown",
   "source": "## 1. Load the data",
   "metadata": {
    "colab_type": "text",
    "id": "HsZB_SGvp4mP",
    "cell_id": "00001-52055e85-2f00-4501-9910-e58f1b41d793",
    "deepnote_cell_type": "markdown"
   }
  },
  {
   "cell_type": "code",
   "metadata": {
    "cell_id": "00002-b52eca3c-3907-4b92-8ff6-abb66bdc6398",
    "deepnote_to_be_reexecuted": false,
    "source_hash": "780bc6de",
    "execution_start": 1625514650649,
    "execution_millis": 3,
    "deepnote_cell_type": "code"
   },
   "source": "import pandas as po\nimport numpy as np\n\n%matplotlib inline",
   "outputs": [],
   "execution_count": null
  },
  {
   "cell_type": "code",
   "metadata": {
    "colab": {
     "autoexec": {
      "startup": false,
      "wait_interval": 0
     }
    },
    "colab_type": "code",
    "id": "s9AtXQPkzC8j",
    "cell_id": "00003-96b2d0b7-8d44-4780-8cad-d911ac0842d8",
    "deepnote_to_be_reexecuted": false,
    "source_hash": "ad3a7e60",
    "execution_start": 1625514650956,
    "execution_millis": 93,
    "deepnote_cell_type": "code"
   },
   "source": "train_url = \"https://raw.githubusercontent.com/Medlytics2021/Week1Public/master/Datasets/allhypo.train.data\"\ntest_url = \"https://raw.githubusercontent.com/Medlytics2021/Week1Public/master/Datasets/allhypo.test.test\"\n\ndata_train = po.read_csv(train_url) \ndata_test = po.read_csv(test_url)   # this will not have a 'Class' column!\n\n# identify columns by what time of data they hold\nnumeric_columns=list([\"Age\",\"TSH\",\"T3\",\"TT4\",\"T4U\",\"FTI\"])\n\n# categorical columns are everything else (minus 'Class')\ncategorical_columns = list(set(data_train.columns)-set(numeric_columns)-set(['Class']))",
   "outputs": [],
   "execution_count": null
  },
  {
   "cell_type": "code",
   "metadata": {
    "tags": [],
    "cell_id": "00004-07ae1358-26f1-4519-8d5d-dcca3a1fbc3d",
    "deepnote_to_be_reexecuted": false,
    "source_hash": "88e7f8dd",
    "execution_start": 1625514651150,
    "execution_millis": 1,
    "deepnote_cell_type": "code"
   },
   "source": "data_train.columns = ['Age', 'Sex', 'On Thyroxine', 'Query on Thyroxine', 'On Antithyroid Medication', 'Sick', 'Pregnant', 'Thyroid Surgery', 'I131 Treatment', 'Query Hypothyroid', 'Query Hyperthyroid', 'Lithium', 'Goiter', 'Tumor', 'Hypopituitary', 'Psych', 'TSH Measured', 'TSH', 'T3 Measured', 'T3', 'TT4 Measured', 'TT4', 'T4U Measured', 'T4U', 'FTI Measured', 'FTI', 'TBG Measured', 'TBG', 'Referral Source', 'Class']\ndata_test.columns = ['Age', 'Sex', 'On Thyroxine', 'Query on Thyroxine', 'On Antithyroid Medication', 'Sick', 'Pregnant', 'Thyroid Surgery', 'I131 Treatment', 'Query Hypothyroid', 'Query Hyperthyroid', 'Lithium', 'Goiter', 'Tumor', 'Hypopituitary', 'Psych', 'TSH Measured', 'TSH', 'T3 Measured', 'T3', 'TT4 Measured', 'TT4', 'T4U Measured', 'T4U', 'FTI Measured', 'FTI', 'TBG Measured', 'TBG', 'Referral Source', 'Class']",
   "outputs": [],
   "execution_count": null
  },
  {
   "cell_type": "markdown",
   "source": "## 2. Format your class labels\nTurn multi-classes into binary classes",
   "metadata": {
    "colab_type": "text",
    "id": "sGKbG-eBqBjF",
    "cell_id": "00004-d04232cb-1d3d-4bfa-81e5-1c756de3621a",
    "deepnote_cell_type": "markdown"
   }
  },
  {
   "cell_type": "code",
   "metadata": {
    "colab": {
     "autoexec": {
      "startup": false,
      "wait_interval": 0
     }
    },
    "colab_type": "code",
    "id": "rnp3nN9b6ZNw",
    "cell_id": "00005-43d9e193-993f-462d-ab71-a6afe890d444",
    "deepnote_to_be_reexecuted": false,
    "source_hash": "f33de51b",
    "execution_start": 1625514651809,
    "execution_millis": 928,
    "deepnote_cell_type": "code"
   },
   "source": "def format_class_labels(df):\n    \n    import re \n    \n    # regex the weird class labels out\n    regex_pattern = ( \"\\.\\|\\d+\")\n\n    for index, row in df.iterrows():\n\n        # substitute instances of our regex_pattern for an empty string\n        new_class = re.sub(regex_pattern, '', row['Class'])\n        df.loc[index, 'Class'] = new_class\n    \n    # set all negative class labels to 0, all others to 1\n    df['Class'] = df['Class'].replace('negative', 0)                    \n    df['Class'] = df['Class'].replace('compensated hypothyroid', 1)     \n    df['Class'] = df['Class'].replace('primary hypothyroid', 1)         \n    df['Class'] = df['Class'].replace('secondary hypothyroid', 1)\n    \n    return df\n\ndata_train = format_class_labels(data_train)\ndata_train.head()",
   "outputs": [
    {
     "output_type": "execute_result",
     "execution_count": 179,
     "data": {
      "application/vnd.deepnote.dataframe.v2+json": {
       "row_count": 5,
       "column_count": 30,
       "columns": [
        {
         "name": "Age",
         "dtype": "object",
         "stats": {
          "unique_count": 4,
          "nan_count": 0,
          "categories": [
           {
            "name": "70",
            "count": 2
           },
           {
            "name": "41",
            "count": 1
           },
           {
            "name": "2 others",
            "count": 2
           }
          ]
         }
        },
        {
         "name": "Sex",
         "dtype": "object",
         "stats": {
          "unique_count": 2,
          "nan_count": 0,
          "categories": [
           {
            "name": "F",
            "count": 4
           },
           {
            "name": "M",
            "count": 1
           }
          ]
         }
        },
        {
         "name": "On Thyroxine",
         "dtype": "object",
         "stats": {
          "unique_count": 2,
          "nan_count": 0,
          "categories": [
           {
            "name": "f",
            "count": 4
           },
           {
            "name": "t",
            "count": 1
           }
          ]
         }
        },
        {
         "name": "Query on Thyroxine",
         "dtype": "object",
         "stats": {
          "unique_count": 1,
          "nan_count": 0,
          "categories": [
           {
            "name": "f",
            "count": 5
           }
          ]
         }
        },
        {
         "name": "On Antithyroid Medication",
         "dtype": "object",
         "stats": {
          "unique_count": 1,
          "nan_count": 0,
          "categories": [
           {
            "name": "f",
            "count": 5
           }
          ]
         }
        },
        {
         "name": "Sick",
         "dtype": "object",
         "stats": {
          "unique_count": 1,
          "nan_count": 0,
          "categories": [
           {
            "name": "f",
            "count": 5
           }
          ]
         }
        },
        {
         "name": "Pregnant",
         "dtype": "object",
         "stats": {
          "unique_count": 1,
          "nan_count": 0,
          "categories": [
           {
            "name": "f",
            "count": 5
           }
          ]
         }
        },
        {
         "name": "Thyroid Surgery",
         "dtype": "object",
         "stats": {
          "unique_count": 1,
          "nan_count": 0,
          "categories": [
           {
            "name": "f",
            "count": 5
           }
          ]
         }
        },
        {
         "name": "I131 Treatment",
         "dtype": "object",
         "stats": {
          "unique_count": 1,
          "nan_count": 0,
          "categories": [
           {
            "name": "f",
            "count": 5
           }
          ]
         }
        },
        {
         "name": "Query Hypothyroid",
         "dtype": "object",
         "stats": {
          "unique_count": 1,
          "nan_count": 0,
          "categories": [
           {
            "name": "f",
            "count": 5
           }
          ]
         }
        },
        {
         "name": "Query Hyperthyroid",
         "dtype": "object",
         "stats": {
          "unique_count": 1,
          "nan_count": 0,
          "categories": [
           {
            "name": "f",
            "count": 5
           }
          ]
         }
        },
        {
         "name": "Lithium",
         "dtype": "object",
         "stats": {
          "unique_count": 1,
          "nan_count": 0,
          "categories": [
           {
            "name": "f",
            "count": 5
           }
          ]
         }
        },
        {
         "name": "Goiter",
         "dtype": "object",
         "stats": {
          "unique_count": 1,
          "nan_count": 0,
          "categories": [
           {
            "name": "f",
            "count": 5
           }
          ]
         }
        },
        {
         "name": "Tumor",
         "dtype": "object",
         "stats": {
          "unique_count": 1,
          "nan_count": 0,
          "categories": [
           {
            "name": "f",
            "count": 5
           }
          ]
         }
        },
        {
         "name": "Hypopituitary",
         "dtype": "object",
         "stats": {
          "unique_count": 1,
          "nan_count": 0,
          "categories": [
           {
            "name": "f",
            "count": 5
           }
          ]
         }
        },
        {
         "name": "Psych",
         "dtype": "object",
         "stats": {
          "unique_count": 1,
          "nan_count": 0,
          "categories": [
           {
            "name": "f",
            "count": 5
           }
          ]
         }
        },
        {
         "name": "TSH Measured",
         "dtype": "object",
         "stats": {
          "unique_count": 1,
          "nan_count": 0,
          "categories": [
           {
            "name": "t",
            "count": 5
           }
          ]
         }
        },
        {
         "name": "TSH",
         "dtype": "object",
         "stats": {
          "unique_count": 5,
          "nan_count": 0,
          "categories": [
           {
            "name": "1.3",
            "count": 1
           },
           {
            "name": "4.1",
            "count": 1
           },
           {
            "name": "3 others",
            "count": 3
           }
          ]
         }
        },
        {
         "name": "T3 Measured",
         "dtype": "object",
         "stats": {
          "unique_count": 2,
          "nan_count": 0,
          "categories": [
           {
            "name": "t",
            "count": 4
           },
           {
            "name": "f",
            "count": 1
           }
          ]
         }
        },
        {
         "name": "T3",
         "dtype": "object",
         "stats": {
          "unique_count": 5,
          "nan_count": 0,
          "categories": [
           {
            "name": "2.5",
            "count": 1
           },
           {
            "name": "2",
            "count": 1
           },
           {
            "name": "3 others",
            "count": 3
           }
          ]
         }
        },
        {
         "name": "TT4 Measured",
         "dtype": "object",
         "stats": {
          "unique_count": 1,
          "nan_count": 0,
          "categories": [
           {
            "name": "t",
            "count": 5
           }
          ]
         }
        },
        {
         "name": "TT4",
         "dtype": "object",
         "stats": {
          "unique_count": 5,
          "nan_count": 0,
          "categories": [
           {
            "name": "125",
            "count": 1
           },
           {
            "name": "102",
            "count": 1
           },
           {
            "name": "3 others",
            "count": 3
           }
          ]
         }
        },
        {
         "name": "T4U Measured",
         "dtype": "object",
         "stats": {
          "unique_count": 2,
          "nan_count": 0,
          "categories": [
           {
            "name": "t",
            "count": 3
           },
           {
            "name": "f",
            "count": 2
           }
          ]
         }
        },
        {
         "name": "T4U",
         "dtype": "object",
         "stats": {
          "unique_count": 4,
          "nan_count": 0,
          "categories": [
           {
            "name": "?",
            "count": 2
           },
           {
            "name": "1.14",
            "count": 1
           },
           {
            "name": "2 others",
            "count": 2
           }
          ]
         }
        },
        {
         "name": "FTI Measured",
         "dtype": "object",
         "stats": {
          "unique_count": 2,
          "nan_count": 0,
          "categories": [
           {
            "name": "t",
            "count": 3
           },
           {
            "name": "f",
            "count": 2
           }
          ]
         }
        },
        {
         "name": "FTI",
         "dtype": "object",
         "stats": {
          "unique_count": 4,
          "nan_count": 0,
          "categories": [
           {
            "name": "?",
            "count": 2
           },
           {
            "name": "109",
            "count": 1
           },
           {
            "name": "2 others",
            "count": 2
           }
          ]
         }
        },
        {
         "name": "TBG Measured",
         "dtype": "object",
         "stats": {
          "unique_count": 1,
          "nan_count": 0,
          "categories": [
           {
            "name": "f",
            "count": 5
           }
          ]
         }
        },
        {
         "name": "TBG",
         "dtype": "object",
         "stats": {
          "unique_count": 1,
          "nan_count": 0,
          "categories": [
           {
            "name": "?",
            "count": 5
           }
          ]
         }
        },
        {
         "name": "Referral Source",
         "dtype": "object",
         "stats": {
          "unique_count": 3,
          "nan_count": 0,
          "categories": [
           {
            "name": "other",
            "count": 3
           },
           {
            "name": "SVHC",
            "count": 1
           },
           {
            "name": "SVI",
            "count": 1
           }
          ]
         }
        },
        {
         "name": "Class",
         "dtype": "int64",
         "stats": {
          "unique_count": 1,
          "nan_count": 0,
          "min": "0",
          "max": "0",
          "histogram": [
           {
            "bin_start": -0.5,
            "bin_end": -0.4,
            "count": 0
           },
           {
            "bin_start": -0.4,
            "bin_end": -0.3,
            "count": 0
           },
           {
            "bin_start": -0.3,
            "bin_end": -0.19999999999999996,
            "count": 0
           },
           {
            "bin_start": -0.19999999999999996,
            "bin_end": -0.09999999999999998,
            "count": 0
           },
           {
            "bin_start": -0.09999999999999998,
            "bin_end": 0,
            "count": 0
           },
           {
            "bin_start": 0,
            "bin_end": 0.10000000000000009,
            "count": 5
           },
           {
            "bin_start": 0.10000000000000009,
            "bin_end": 0.20000000000000007,
            "count": 0
           },
           {
            "bin_start": 0.20000000000000007,
            "bin_end": 0.30000000000000004,
            "count": 0
           },
           {
            "bin_start": 0.30000000000000004,
            "bin_end": 0.4,
            "count": 0
           },
           {
            "bin_start": 0.4,
            "bin_end": 0.5,
            "count": 0
           }
          ]
         }
        },
        {
         "name": "_deepnote_index_column",
         "dtype": "int64"
        }
       ],
       "rows_top": [
        {
         "Age": "41",
         "Sex": "F",
         "On Thyroxine": "f",
         "Query on Thyroxine": "f",
         "On Antithyroid Medication": "f",
         "Sick": "f",
         "Pregnant": "f",
         "Thyroid Surgery": "f",
         "I131 Treatment": "f",
         "Query Hypothyroid": "f",
         "Query Hyperthyroid": "f",
         "Lithium": "f",
         "Goiter": "f",
         "Tumor": "f",
         "Hypopituitary": "f",
         "Psych": "f",
         "TSH Measured": "t",
         "TSH": "1.3",
         "T3 Measured": "t",
         "T3": "2.5",
         "TT4 Measured": "t",
         "TT4": "125",
         "T4U Measured": "t",
         "T4U": "1.14",
         "FTI Measured": "t",
         "FTI": "109",
         "TBG Measured": "f",
         "TBG": "?",
         "Referral Source": "SVHC",
         "Class": 0,
         "_deepnote_index_column": 0
        },
        {
         "Age": "23",
         "Sex": "F",
         "On Thyroxine": "f",
         "Query on Thyroxine": "f",
         "On Antithyroid Medication": "f",
         "Sick": "f",
         "Pregnant": "f",
         "Thyroid Surgery": "f",
         "I131 Treatment": "f",
         "Query Hypothyroid": "f",
         "Query Hyperthyroid": "f",
         "Lithium": "f",
         "Goiter": "f",
         "Tumor": "f",
         "Hypopituitary": "f",
         "Psych": "f",
         "TSH Measured": "t",
         "TSH": "4.1",
         "T3 Measured": "t",
         "T3": "2",
         "TT4 Measured": "t",
         "TT4": "102",
         "T4U Measured": "f",
         "T4U": "?",
         "FTI Measured": "f",
         "FTI": "?",
         "TBG Measured": "f",
         "TBG": "?",
         "Referral Source": "other",
         "Class": 0,
         "_deepnote_index_column": 1
        },
        {
         "Age": "46",
         "Sex": "M",
         "On Thyroxine": "f",
         "Query on Thyroxine": "f",
         "On Antithyroid Medication": "f",
         "Sick": "f",
         "Pregnant": "f",
         "Thyroid Surgery": "f",
         "I131 Treatment": "f",
         "Query Hypothyroid": "f",
         "Query Hyperthyroid": "f",
         "Lithium": "f",
         "Goiter": "f",
         "Tumor": "f",
         "Hypopituitary": "f",
         "Psych": "f",
         "TSH Measured": "t",
         "TSH": "0.98",
         "T3 Measured": "f",
         "T3": "?",
         "TT4 Measured": "t",
         "TT4": "109",
         "T4U Measured": "t",
         "T4U": "0.91",
         "FTI Measured": "t",
         "FTI": "120",
         "TBG Measured": "f",
         "TBG": "?",
         "Referral Source": "other",
         "Class": 0,
         "_deepnote_index_column": 2
        },
        {
         "Age": "70",
         "Sex": "F",
         "On Thyroxine": "t",
         "Query on Thyroxine": "f",
         "On Antithyroid Medication": "f",
         "Sick": "f",
         "Pregnant": "f",
         "Thyroid Surgery": "f",
         "I131 Treatment": "f",
         "Query Hypothyroid": "f",
         "Query Hyperthyroid": "f",
         "Lithium": "f",
         "Goiter": "f",
         "Tumor": "f",
         "Hypopituitary": "f",
         "Psych": "f",
         "TSH Measured": "t",
         "TSH": "0.16",
         "T3 Measured": "t",
         "T3": "1.9",
         "TT4 Measured": "t",
         "TT4": "175",
         "T4U Measured": "f",
         "T4U": "?",
         "FTI Measured": "f",
         "FTI": "?",
         "TBG Measured": "f",
         "TBG": "?",
         "Referral Source": "other",
         "Class": 0,
         "_deepnote_index_column": 3
        },
        {
         "Age": "70",
         "Sex": "F",
         "On Thyroxine": "f",
         "Query on Thyroxine": "f",
         "On Antithyroid Medication": "f",
         "Sick": "f",
         "Pregnant": "f",
         "Thyroid Surgery": "f",
         "I131 Treatment": "f",
         "Query Hypothyroid": "f",
         "Query Hyperthyroid": "f",
         "Lithium": "f",
         "Goiter": "f",
         "Tumor": "f",
         "Hypopituitary": "f",
         "Psych": "f",
         "TSH Measured": "t",
         "TSH": "0.72",
         "T3 Measured": "t",
         "T3": "1.2",
         "TT4 Measured": "t",
         "TT4": "61",
         "T4U Measured": "t",
         "T4U": "0.87",
         "FTI Measured": "t",
         "FTI": "70",
         "TBG Measured": "f",
         "TBG": "?",
         "Referral Source": "SVI",
         "Class": 0,
         "_deepnote_index_column": 4
        }
       ],
       "rows_bottom": null
      },
      "text/plain": "  Age Sex On Thyroxine Query on Thyroxine On Antithyroid Medication Sick  \\\n0  41   F            f                  f                         f    f   \n1  23   F            f                  f                         f    f   \n2  46   M            f                  f                         f    f   \n3  70   F            t                  f                         f    f   \n4  70   F            f                  f                         f    f   \n\n  Pregnant Thyroid Surgery I131 Treatment Query Hypothyroid  ... TT4 Measured  \\\n0        f               f              f                 f  ...            t   \n1        f               f              f                 f  ...            t   \n2        f               f              f                 f  ...            t   \n3        f               f              f                 f  ...            t   \n4        f               f              f                 f  ...            t   \n\n   TT4 T4U Measured   T4U FTI Measured  FTI TBG Measured TBG Referral Source  \\\n0  125            t  1.14            t  109            f   ?            SVHC   \n1  102            f     ?            f    ?            f   ?           other   \n2  109            t  0.91            t  120            f   ?           other   \n3  175            f     ?            f    ?            f   ?           other   \n4   61            t  0.87            t   70            f   ?             SVI   \n\n  Class  \n0     0  \n1     0  \n2     0  \n3     0  \n4     0  \n\n[5 rows x 30 columns]",
      "text/html": "<div>\n<style scoped>\n    .dataframe tbody tr th:only-of-type {\n        vertical-align: middle;\n    }\n\n    .dataframe tbody tr th {\n        vertical-align: top;\n    }\n\n    .dataframe thead th {\n        text-align: right;\n    }\n</style>\n<table border=\"1\" class=\"dataframe\">\n  <thead>\n    <tr style=\"text-align: right;\">\n      <th></th>\n      <th>Age</th>\n      <th>Sex</th>\n      <th>On Thyroxine</th>\n      <th>Query on Thyroxine</th>\n      <th>On Antithyroid Medication</th>\n      <th>Sick</th>\n      <th>Pregnant</th>\n      <th>Thyroid Surgery</th>\n      <th>I131 Treatment</th>\n      <th>Query Hypothyroid</th>\n      <th>...</th>\n      <th>TT4 Measured</th>\n      <th>TT4</th>\n      <th>T4U Measured</th>\n      <th>T4U</th>\n      <th>FTI Measured</th>\n      <th>FTI</th>\n      <th>TBG Measured</th>\n      <th>TBG</th>\n      <th>Referral Source</th>\n      <th>Class</th>\n    </tr>\n  </thead>\n  <tbody>\n    <tr>\n      <th>0</th>\n      <td>41</td>\n      <td>F</td>\n      <td>f</td>\n      <td>f</td>\n      <td>f</td>\n      <td>f</td>\n      <td>f</td>\n      <td>f</td>\n      <td>f</td>\n      <td>f</td>\n      <td>...</td>\n      <td>t</td>\n      <td>125</td>\n      <td>t</td>\n      <td>1.14</td>\n      <td>t</td>\n      <td>109</td>\n      <td>f</td>\n      <td>?</td>\n      <td>SVHC</td>\n      <td>0</td>\n    </tr>\n    <tr>\n      <th>1</th>\n      <td>23</td>\n      <td>F</td>\n      <td>f</td>\n      <td>f</td>\n      <td>f</td>\n      <td>f</td>\n      <td>f</td>\n      <td>f</td>\n      <td>f</td>\n      <td>f</td>\n      <td>...</td>\n      <td>t</td>\n      <td>102</td>\n      <td>f</td>\n      <td>?</td>\n      <td>f</td>\n      <td>?</td>\n      <td>f</td>\n      <td>?</td>\n      <td>other</td>\n      <td>0</td>\n    </tr>\n    <tr>\n      <th>2</th>\n      <td>46</td>\n      <td>M</td>\n      <td>f</td>\n      <td>f</td>\n      <td>f</td>\n      <td>f</td>\n      <td>f</td>\n      <td>f</td>\n      <td>f</td>\n      <td>f</td>\n      <td>...</td>\n      <td>t</td>\n      <td>109</td>\n      <td>t</td>\n      <td>0.91</td>\n      <td>t</td>\n      <td>120</td>\n      <td>f</td>\n      <td>?</td>\n      <td>other</td>\n      <td>0</td>\n    </tr>\n    <tr>\n      <th>3</th>\n      <td>70</td>\n      <td>F</td>\n      <td>t</td>\n      <td>f</td>\n      <td>f</td>\n      <td>f</td>\n      <td>f</td>\n      <td>f</td>\n      <td>f</td>\n      <td>f</td>\n      <td>...</td>\n      <td>t</td>\n      <td>175</td>\n      <td>f</td>\n      <td>?</td>\n      <td>f</td>\n      <td>?</td>\n      <td>f</td>\n      <td>?</td>\n      <td>other</td>\n      <td>0</td>\n    </tr>\n    <tr>\n      <th>4</th>\n      <td>70</td>\n      <td>F</td>\n      <td>f</td>\n      <td>f</td>\n      <td>f</td>\n      <td>f</td>\n      <td>f</td>\n      <td>f</td>\n      <td>f</td>\n      <td>f</td>\n      <td>...</td>\n      <td>t</td>\n      <td>61</td>\n      <td>t</td>\n      <td>0.87</td>\n      <td>t</td>\n      <td>70</td>\n      <td>f</td>\n      <td>?</td>\n      <td>SVI</td>\n      <td>0</td>\n    </tr>\n  </tbody>\n</table>\n<p>5 rows × 30 columns</p>\n</div>"
     },
     "metadata": {}
    }
   ],
   "execution_count": null
  },
  {
   "cell_type": "markdown",
   "source": "## 3. Split training into training and validation\nChoose what split you like (alternatively, you can do k-fold cross validation)",
   "metadata": {
    "cell_id": "00006-548a0bb0-9ad7-44ef-ae11-ae809b6fec71",
    "deepnote_cell_type": "markdown"
   }
  },
  {
   "cell_type": "code",
   "metadata": {
    "cell_id": "00007-73ab31d4-47f8-43d7-9177-40155476266e",
    "deepnote_to_be_reexecuted": false,
    "source_hash": "18169413",
    "execution_start": 1625514652855,
    "execution_millis": 12,
    "deepnote_cell_type": "code"
   },
   "source": "from sklearn.model_selection import train_test_split\n\ndata_train, data_val = train_test_split(data_train, test_size=0.20, random_state=0, stratify=data_train['Class'])",
   "outputs": [],
   "execution_count": null
  },
  {
   "cell_type": "code",
   "metadata": {
    "tags": [],
    "cell_id": "00009-e4152fb1-5986-4d06-9f69-b8b958e68d09",
    "deepnote_to_be_reexecuted": false,
    "source_hash": "4987a60d",
    "execution_start": 1625514653366,
    "execution_millis": 200,
    "deepnote_cell_type": "code"
   },
   "source": "data_train.reset_index()",
   "outputs": [
    {
     "output_type": "execute_result",
     "execution_count": 181,
     "data": {
      "application/vnd.deepnote.dataframe.v2+json": {
       "row_count": 2240,
       "column_count": 31,
       "columns": [
        {
         "name": "index",
         "dtype": "int64",
         "stats": {
          "unique_count": 2240,
          "nan_count": 0,
          "min": "1",
          "max": "2799",
          "histogram": [
           {
            "bin_start": 1,
            "bin_end": 280.8,
            "count": 238
           },
           {
            "bin_start": 280.8,
            "bin_end": 560.6,
            "count": 228
           },
           {
            "bin_start": 560.6,
            "bin_end": 840.4000000000001,
            "count": 226
           },
           {
            "bin_start": 840.4000000000001,
            "bin_end": 1120.2,
            "count": 218
           },
           {
            "bin_start": 1120.2,
            "bin_end": 1400,
            "count": 219
           },
           {
            "bin_start": 1400,
            "bin_end": 1679.8000000000002,
            "count": 224
           },
           {
            "bin_start": 1679.8000000000002,
            "bin_end": 1959.6000000000001,
            "count": 220
           },
           {
            "bin_start": 1959.6000000000001,
            "bin_end": 2239.4,
            "count": 217
           },
           {
            "bin_start": 2239.4,
            "bin_end": 2519.2000000000003,
            "count": 221
           },
           {
            "bin_start": 2519.2000000000003,
            "bin_end": 2799,
            "count": 229
           }
          ]
         }
        },
        {
         "name": "Age",
         "dtype": "object",
         "stats": {
          "unique_count": 92,
          "nan_count": 0,
          "categories": [
           {
            "name": "70",
            "count": 63
           },
           {
            "name": "59",
            "count": 56
           },
           {
            "name": "90 others",
            "count": 2121
           }
          ]
         }
        },
        {
         "name": "Sex",
         "dtype": "object",
         "stats": {
          "unique_count": 3,
          "nan_count": 0,
          "categories": [
           {
            "name": "F",
            "count": 1454
           },
           {
            "name": "M",
            "count": 697
           },
           {
            "name": "?",
            "count": 89
           }
          ]
         }
        },
        {
         "name": "On Thyroxine",
         "dtype": "object",
         "stats": {
          "unique_count": 2,
          "nan_count": 0,
          "categories": [
           {
            "name": "f",
            "count": 1974
           },
           {
            "name": "t",
            "count": 266
           }
          ]
         }
        },
        {
         "name": "Query on Thyroxine",
         "dtype": "object",
         "stats": {
          "unique_count": 2,
          "nan_count": 0,
          "categories": [
           {
            "name": "f",
            "count": 2210
           },
           {
            "name": "t",
            "count": 30
           }
          ]
         }
        },
        {
         "name": "On Antithyroid Medication",
         "dtype": "object",
         "stats": {
          "unique_count": 2,
          "nan_count": 0,
          "categories": [
           {
            "name": "f",
            "count": 2216
           },
           {
            "name": "t",
            "count": 24
           }
          ]
         }
        },
        {
         "name": "Sick",
         "dtype": "object",
         "stats": {
          "unique_count": 2,
          "nan_count": 0,
          "categories": [
           {
            "name": "f",
            "count": 2151
           },
           {
            "name": "t",
            "count": 89
           }
          ]
         }
        },
        {
         "name": "Pregnant",
         "dtype": "object",
         "stats": {
          "unique_count": 2,
          "nan_count": 0,
          "categories": [
           {
            "name": "f",
            "count": 2205
           },
           {
            "name": "t",
            "count": 35
           }
          ]
         }
        },
        {
         "name": "Thyroid Surgery",
         "dtype": "object",
         "stats": {
          "unique_count": 2,
          "nan_count": 0,
          "categories": [
           {
            "name": "f",
            "count": 2209
           },
           {
            "name": "t",
            "count": 31
           }
          ]
         }
        },
        {
         "name": "I131 Treatment",
         "dtype": "object",
         "stats": {
          "unique_count": 2,
          "nan_count": 0,
          "categories": [
           {
            "name": "f",
            "count": 2203
           },
           {
            "name": "t",
            "count": 37
           }
          ]
         }
        },
        {
         "name": "Query Hypothyroid",
         "dtype": "object",
         "stats": {
          "unique_count": 2,
          "nan_count": 0,
          "categories": [
           {
            "name": "f",
            "count": 2113
           },
           {
            "name": "t",
            "count": 127
           }
          ]
         }
        },
        {
         "name": "Query Hyperthyroid",
         "dtype": "object",
         "stats": {
          "unique_count": 2,
          "nan_count": 0,
          "categories": [
           {
            "name": "f",
            "count": 2097
           },
           {
            "name": "t",
            "count": 143
           }
          ]
         }
        },
        {
         "name": "Lithium",
         "dtype": "object",
         "stats": {
          "unique_count": 2,
          "nan_count": 0,
          "categories": [
           {
            "name": "f",
            "count": 2227
           },
           {
            "name": "t",
            "count": 13
           }
          ]
         }
        },
        {
         "name": "Goiter",
         "dtype": "object",
         "stats": {
          "unique_count": 2,
          "nan_count": 0,
          "categories": [
           {
            "name": "f",
            "count": 2221
           },
           {
            "name": "t",
            "count": 19
           }
          ]
         }
        },
        {
         "name": "Tumor",
         "dtype": "object",
         "stats": {
          "unique_count": 2,
          "nan_count": 0,
          "categories": [
           {
            "name": "f",
            "count": 2184
           },
           {
            "name": "t",
            "count": 56
           }
          ]
         }
        },
        {
         "name": "Hypopituitary",
         "dtype": "object",
         "stats": {
          "unique_count": 2,
          "nan_count": 0,
          "categories": [
           {
            "name": "f",
            "count": 2239
           },
           {
            "name": "t",
            "count": 1
           }
          ]
         }
        },
        {
         "name": "Psych",
         "dtype": "object",
         "stats": {
          "unique_count": 2,
          "nan_count": 0,
          "categories": [
           {
            "name": "f",
            "count": 2131
           },
           {
            "name": "t",
            "count": 109
           }
          ]
         }
        },
        {
         "name": "TSH Measured",
         "dtype": "object",
         "stats": {
          "unique_count": 2,
          "nan_count": 0,
          "categories": [
           {
            "name": "t",
            "count": 2021
           },
           {
            "name": "f",
            "count": 219
           }
          ]
         }
        },
        {
         "name": "TSH",
         "dtype": "object",
         "stats": {
          "unique_count": 255,
          "nan_count": 0,
          "categories": [
           {
            "name": "?",
            "count": 219
           },
           {
            "name": "0.2",
            "count": 73
           },
           {
            "name": "253 others",
            "count": 1948
           }
          ]
         }
        },
        {
         "name": "T3 Measured",
         "dtype": "object",
         "stats": {
          "unique_count": 2,
          "nan_count": 0,
          "categories": [
           {
            "name": "t",
            "count": 1772
           },
           {
            "name": "f",
            "count": 468
           }
          ]
         }
        },
        {
         "name": "T3",
         "dtype": "object",
         "stats": {
          "unique_count": 63,
          "nan_count": 0,
          "categories": [
           {
            "name": "?",
            "count": 468
           },
           {
            "name": "2",
            "count": 134
           },
           {
            "name": "61 others",
            "count": 1638
           }
          ]
         }
        },
        {
         "name": "TT4 Measured",
         "dtype": "object",
         "stats": {
          "unique_count": 2,
          "nan_count": 0,
          "categories": [
           {
            "name": "t",
            "count": 2104
           },
           {
            "name": "f",
            "count": 136
           }
          ]
         }
        },
        {
         "name": "TT4",
         "dtype": "object",
         "stats": {
          "unique_count": 207,
          "nan_count": 0,
          "categories": [
           {
            "name": "?",
            "count": 136
           },
           {
            "name": "101",
            "count": 49
           },
           {
            "name": "205 others",
            "count": 2055
           }
          ]
         }
        },
        {
         "name": "T4U Measured",
         "dtype": "object",
         "stats": {
          "unique_count": 2,
          "nan_count": 0,
          "categories": [
           {
            "name": "t",
            "count": 2015
           },
           {
            "name": "f",
            "count": 225
           }
          ]
         }
        },
        {
         "name": "T4U",
         "dtype": "object",
         "stats": {
          "unique_count": 133,
          "nan_count": 0,
          "categories": [
           {
            "name": "?",
            "count": 225
           },
           {
            "name": "0.99",
            "count": 69
           },
           {
            "name": "131 others",
            "count": 1946
           }
          ]
         }
        },
        {
         "name": "FTI Measured",
         "dtype": "object",
         "stats": {
          "unique_count": 2,
          "nan_count": 0,
          "categories": [
           {
            "name": "t",
            "count": 2015
           },
           {
            "name": "f",
            "count": 225
           }
          ]
         }
        },
        {
         "name": "FTI",
         "dtype": "object",
         "stats": {
          "unique_count": 205,
          "nan_count": 0,
          "categories": [
           {
            "name": "?",
            "count": 225
           },
           {
            "name": "100",
            "count": 45
           },
           {
            "name": "203 others",
            "count": 1970
           }
          ]
         }
        },
        {
         "name": "TBG Measured",
         "dtype": "object",
         "stats": {
          "unique_count": 1,
          "nan_count": 0,
          "categories": [
           {
            "name": "f",
            "count": 2240
           }
          ]
         }
        },
        {
         "name": "TBG",
         "dtype": "object",
         "stats": {
          "unique_count": 1,
          "nan_count": 0,
          "categories": [
           {
            "name": "?",
            "count": 2240
           }
          ]
         }
        },
        {
         "name": "Referral Source",
         "dtype": "object",
         "stats": {
          "unique_count": 5,
          "nan_count": 0,
          "categories": [
           {
            "name": "other",
            "count": 1306
           },
           {
            "name": "SVI",
            "count": 614
           },
           {
            "name": "3 others",
            "count": 320
           }
          ]
         }
        },
        {
         "name": "Class",
         "dtype": "int64",
         "stats": {
          "unique_count": 2,
          "nan_count": 0,
          "min": "0",
          "max": "1",
          "histogram": [
           {
            "bin_start": 0,
            "bin_end": 0.1,
            "count": 2064
           },
           {
            "bin_start": 0.1,
            "bin_end": 0.2,
            "count": 0
           },
           {
            "bin_start": 0.2,
            "bin_end": 0.30000000000000004,
            "count": 0
           },
           {
            "bin_start": 0.30000000000000004,
            "bin_end": 0.4,
            "count": 0
           },
           {
            "bin_start": 0.4,
            "bin_end": 0.5,
            "count": 0
           },
           {
            "bin_start": 0.5,
            "bin_end": 0.6000000000000001,
            "count": 0
           },
           {
            "bin_start": 0.6000000000000001,
            "bin_end": 0.7000000000000001,
            "count": 0
           },
           {
            "bin_start": 0.7000000000000001,
            "bin_end": 0.8,
            "count": 0
           },
           {
            "bin_start": 0.8,
            "bin_end": 0.9,
            "count": 0
           },
           {
            "bin_start": 0.9,
            "bin_end": 1,
            "count": 176
           }
          ]
         }
        },
        {
         "name": "_deepnote_index_column",
         "dtype": "int64"
        }
       ],
       "rows_top": [
        {
         "index": 170,
         "Age": "70",
         "Sex": "M",
         "On Thyroxine": "f",
         "Query on Thyroxine": "f",
         "On Antithyroid Medication": "f",
         "Sick": "t",
         "Pregnant": "f",
         "Thyroid Surgery": "f",
         "I131 Treatment": "f",
         "Query Hypothyroid": "f",
         "Query Hyperthyroid": "f",
         "Lithium": "f",
         "Goiter": "f",
         "Tumor": "f",
         "Hypopituitary": "f",
         "Psych": "f",
         "TSH Measured": "t",
         "TSH": "0.6",
         "T3 Measured": "t",
         "T3": "2.6",
         "TT4 Measured": "t",
         "TT4": "144",
         "T4U Measured": "t",
         "T4U": "1.2",
         "FTI Measured": "t",
         "FTI": "120",
         "TBG Measured": "f",
         "TBG": "?",
         "Referral Source": "SVHD",
         "Class": 0,
         "_deepnote_index_column": 0
        },
        {
         "index": 998,
         "Age": "32",
         "Sex": "F",
         "On Thyroxine": "f",
         "Query on Thyroxine": "f",
         "On Antithyroid Medication": "f",
         "Sick": "f",
         "Pregnant": "f",
         "Thyroid Surgery": "f",
         "I131 Treatment": "f",
         "Query Hypothyroid": "f",
         "Query Hyperthyroid": "f",
         "Lithium": "f",
         "Goiter": "f",
         "Tumor": "f",
         "Hypopituitary": "f",
         "Psych": "f",
         "TSH Measured": "f",
         "TSH": "?",
         "T3 Measured": "f",
         "T3": "?",
         "TT4 Measured": "f",
         "TT4": "?",
         "T4U Measured": "f",
         "T4U": "?",
         "FTI Measured": "f",
         "FTI": "?",
         "TBG Measured": "f",
         "TBG": "?",
         "Referral Source": "other",
         "Class": 0,
         "_deepnote_index_column": 1
        },
        {
         "index": 2687,
         "Age": "57",
         "Sex": "M",
         "On Thyroxine": "f",
         "Query on Thyroxine": "f",
         "On Antithyroid Medication": "f",
         "Sick": "f",
         "Pregnant": "f",
         "Thyroid Surgery": "f",
         "I131 Treatment": "f",
         "Query Hypothyroid": "f",
         "Query Hyperthyroid": "f",
         "Lithium": "f",
         "Goiter": "f",
         "Tumor": "f",
         "Hypopituitary": "f",
         "Psych": "f",
         "TSH Measured": "t",
         "TSH": "1.1",
         "T3 Measured": "t",
         "T3": "3",
         "TT4 Measured": "t",
         "TT4": "117",
         "T4U Measured": "t",
         "T4U": "0.97",
         "FTI Measured": "t",
         "FTI": "120",
         "TBG Measured": "f",
         "TBG": "?",
         "Referral Source": "other",
         "Class": 0,
         "_deepnote_index_column": 2
        },
        {
         "index": 2256,
         "Age": "51",
         "Sex": "M",
         "On Thyroxine": "f",
         "Query on Thyroxine": "f",
         "On Antithyroid Medication": "f",
         "Sick": "f",
         "Pregnant": "f",
         "Thyroid Surgery": "f",
         "I131 Treatment": "f",
         "Query Hypothyroid": "f",
         "Query Hyperthyroid": "f",
         "Lithium": "f",
         "Goiter": "f",
         "Tumor": "f",
         "Hypopituitary": "f",
         "Psych": "f",
         "TSH Measured": "t",
         "TSH": "1.2",
         "T3 Measured": "t",
         "T3": "2.3",
         "TT4 Measured": "t",
         "TT4": "72",
         "T4U Measured": "t",
         "T4U": "0.84",
         "FTI Measured": "t",
         "FTI": "85",
         "TBG Measured": "f",
         "TBG": "?",
         "Referral Source": "SVI",
         "Class": 0,
         "_deepnote_index_column": 3
        },
        {
         "index": 444,
         "Age": "49",
         "Sex": "F",
         "On Thyroxine": "f",
         "Query on Thyroxine": "f",
         "On Antithyroid Medication": "f",
         "Sick": "f",
         "Pregnant": "f",
         "Thyroid Surgery": "f",
         "I131 Treatment": "f",
         "Query Hypothyroid": "f",
         "Query Hyperthyroid": "f",
         "Lithium": "f",
         "Goiter": "f",
         "Tumor": "f",
         "Hypopituitary": "f",
         "Psych": "f",
         "TSH Measured": "t",
         "TSH": "1.2",
         "T3 Measured": "t",
         "T3": "2.2",
         "TT4 Measured": "t",
         "TT4": "100",
         "T4U Measured": "t",
         "T4U": "0.93",
         "FTI Measured": "t",
         "FTI": "108",
         "TBG Measured": "f",
         "TBG": "?",
         "Referral Source": "SVHC",
         "Class": 0,
         "_deepnote_index_column": 4
        },
        {
         "index": 2179,
         "Age": "69",
         "Sex": "F",
         "On Thyroxine": "f",
         "Query on Thyroxine": "f",
         "On Antithyroid Medication": "f",
         "Sick": "f",
         "Pregnant": "f",
         "Thyroid Surgery": "f",
         "I131 Treatment": "f",
         "Query Hypothyroid": "f",
         "Query Hyperthyroid": "f",
         "Lithium": "f",
         "Goiter": "f",
         "Tumor": "f",
         "Hypopituitary": "f",
         "Psych": "f",
         "TSH Measured": "t",
         "TSH": "2.2",
         "T3 Measured": "t",
         "T3": "1.8",
         "TT4 Measured": "t",
         "TT4": "92",
         "T4U Measured": "f",
         "T4U": "?",
         "FTI Measured": "f",
         "FTI": "?",
         "TBG Measured": "f",
         "TBG": "?",
         "Referral Source": "other",
         "Class": 0,
         "_deepnote_index_column": 5
        },
        {
         "index": 2618,
         "Age": "58",
         "Sex": "F",
         "On Thyroxine": "f",
         "Query on Thyroxine": "f",
         "On Antithyroid Medication": "f",
         "Sick": "f",
         "Pregnant": "f",
         "Thyroid Surgery": "f",
         "I131 Treatment": "f",
         "Query Hypothyroid": "f",
         "Query Hyperthyroid": "f",
         "Lithium": "f",
         "Goiter": "f",
         "Tumor": "f",
         "Hypopituitary": "f",
         "Psych": "f",
         "TSH Measured": "t",
         "TSH": "0.8",
         "T3 Measured": "t",
         "T3": "2.2",
         "TT4 Measured": "t",
         "TT4": "96",
         "T4U Measured": "t",
         "T4U": "0.86",
         "FTI Measured": "t",
         "FTI": "111",
         "TBG Measured": "f",
         "TBG": "?",
         "Referral Source": "SVI",
         "Class": 0,
         "_deepnote_index_column": 6
        },
        {
         "index": 14,
         "Age": "28",
         "Sex": "M",
         "On Thyroxine": "f",
         "Query on Thyroxine": "f",
         "On Antithyroid Medication": "f",
         "Sick": "f",
         "Pregnant": "f",
         "Thyroid Surgery": "f",
         "I131 Treatment": "f",
         "Query Hypothyroid": "f",
         "Query Hyperthyroid": "f",
         "Lithium": "f",
         "Goiter": "f",
         "Tumor": "f",
         "Hypopituitary": "f",
         "Psych": "f",
         "TSH Measured": "t",
         "TSH": "3.3",
         "T3 Measured": "t",
         "T3": "1.8",
         "TT4 Measured": "t",
         "TT4": "109",
         "T4U Measured": "t",
         "T4U": "0.91",
         "FTI Measured": "t",
         "FTI": "119",
         "TBG Measured": "f",
         "TBG": "?",
         "Referral Source": "SVHC",
         "Class": 0,
         "_deepnote_index_column": 7
        },
        {
         "index": 89,
         "Age": "49",
         "Sex": "F",
         "On Thyroxine": "f",
         "Query on Thyroxine": "f",
         "On Antithyroid Medication": "f",
         "Sick": "f",
         "Pregnant": "f",
         "Thyroid Surgery": "f",
         "I131 Treatment": "f",
         "Query Hypothyroid": "f",
         "Query Hyperthyroid": "f",
         "Lithium": "f",
         "Goiter": "f",
         "Tumor": "f",
         "Hypopituitary": "f",
         "Psych": "f",
         "TSH Measured": "t",
         "TSH": "0.1",
         "T3 Measured": "t",
         "T3": "0.3",
         "TT4 Measured": "t",
         "TT4": "32",
         "T4U Measured": "t",
         "T4U": "0.53",
         "FTI Measured": "t",
         "FTI": "60",
         "TBG Measured": "f",
         "TBG": "?",
         "Referral Source": "SVI",
         "Class": 0,
         "_deepnote_index_column": 8
        },
        {
         "index": 2035,
         "Age": "64",
         "Sex": "F",
         "On Thyroxine": "t",
         "Query on Thyroxine": "f",
         "On Antithyroid Medication": "f",
         "Sick": "f",
         "Pregnant": "f",
         "Thyroid Surgery": "f",
         "I131 Treatment": "f",
         "Query Hypothyroid": "f",
         "Query Hyperthyroid": "f",
         "Lithium": "f",
         "Goiter": "f",
         "Tumor": "f",
         "Hypopituitary": "f",
         "Psych": "f",
         "TSH Measured": "t",
         "TSH": "32",
         "T3 Measured": "t",
         "T3": "1.4",
         "TT4 Measured": "t",
         "TT4": "85",
         "T4U Measured": "t",
         "T4U": "1.18",
         "FTI Measured": "t",
         "FTI": "71",
         "TBG Measured": "f",
         "TBG": "?",
         "Referral Source": "other",
         "Class": 0,
         "_deepnote_index_column": 9
        },
        {
         "index": 2005,
         "Age": "70",
         "Sex": "M",
         "On Thyroxine": "f",
         "Query on Thyroxine": "f",
         "On Antithyroid Medication": "f",
         "Sick": "f",
         "Pregnant": "f",
         "Thyroid Surgery": "f",
         "I131 Treatment": "f",
         "Query Hypothyroid": "f",
         "Query Hyperthyroid": "f",
         "Lithium": "f",
         "Goiter": "f",
         "Tumor": "f",
         "Hypopituitary": "f",
         "Psych": "f",
         "TSH Measured": "t",
         "TSH": "0.005",
         "T3 Measured": "t",
         "T3": "1.9",
         "TT4 Measured": "t",
         "TT4": "103",
         "T4U Measured": "t",
         "T4U": "0.95",
         "FTI Measured": "t",
         "FTI": "109",
         "TBG Measured": "f",
         "TBG": "?",
         "Referral Source": "SVI",
         "Class": 0,
         "_deepnote_index_column": 10
        },
        {
         "index": 1984,
         "Age": "61",
         "Sex": "F",
         "On Thyroxine": "f",
         "Query on Thyroxine": "f",
         "On Antithyroid Medication": "f",
         "Sick": "f",
         "Pregnant": "f",
         "Thyroid Surgery": "f",
         "I131 Treatment": "f",
         "Query Hypothyroid": "f",
         "Query Hyperthyroid": "f",
         "Lithium": "f",
         "Goiter": "f",
         "Tumor": "f",
         "Hypopituitary": "f",
         "Psych": "f",
         "TSH Measured": "t",
         "TSH": "1.5",
         "T3 Measured": "t",
         "T3": "1.7",
         "TT4 Measured": "t",
         "TT4": "111",
         "T4U Measured": "t",
         "T4U": "0.94",
         "FTI Measured": "t",
         "FTI": "118",
         "TBG Measured": "f",
         "TBG": "?",
         "Referral Source": "SVI",
         "Class": 0,
         "_deepnote_index_column": 11
        },
        {
         "index": 404,
         "Age": "26",
         "Sex": "F",
         "On Thyroxine": "f",
         "Query on Thyroxine": "f",
         "On Antithyroid Medication": "f",
         "Sick": "f",
         "Pregnant": "f",
         "Thyroid Surgery": "f",
         "I131 Treatment": "f",
         "Query Hypothyroid": "f",
         "Query Hyperthyroid": "f",
         "Lithium": "f",
         "Goiter": "f",
         "Tumor": "f",
         "Hypopituitary": "f",
         "Psych": "f",
         "TSH Measured": "t",
         "TSH": "2.7",
         "T3 Measured": "t",
         "T3": "2.8",
         "TT4 Measured": "t",
         "TT4": "96",
         "T4U Measured": "t",
         "T4U": "0.82",
         "FTI Measured": "t",
         "FTI": "118",
         "TBG Measured": "f",
         "TBG": "?",
         "Referral Source": "other",
         "Class": 0,
         "_deepnote_index_column": 12
        },
        {
         "index": 1588,
         "Age": "47",
         "Sex": "F",
         "On Thyroxine": "f",
         "Query on Thyroxine": "f",
         "On Antithyroid Medication": "f",
         "Sick": "f",
         "Pregnant": "f",
         "Thyroid Surgery": "f",
         "I131 Treatment": "f",
         "Query Hypothyroid": "f",
         "Query Hyperthyroid": "t",
         "Lithium": "f",
         "Goiter": "f",
         "Tumor": "f",
         "Hypopituitary": "f",
         "Psych": "f",
         "TSH Measured": "t",
         "TSH": "2.1",
         "T3 Measured": "f",
         "T3": "?",
         "TT4 Measured": "t",
         "TT4": "117",
         "T4U Measured": "t",
         "T4U": "1.09",
         "FTI Measured": "t",
         "FTI": "107",
         "TBG Measured": "f",
         "TBG": "?",
         "Referral Source": "other",
         "Class": 0,
         "_deepnote_index_column": 13
        },
        {
         "index": 1159,
         "Age": "40",
         "Sex": "M",
         "On Thyroxine": "f",
         "Query on Thyroxine": "f",
         "On Antithyroid Medication": "f",
         "Sick": "f",
         "Pregnant": "f",
         "Thyroid Surgery": "f",
         "I131 Treatment": "f",
         "Query Hypothyroid": "f",
         "Query Hyperthyroid": "f",
         "Lithium": "f",
         "Goiter": "f",
         "Tumor": "t",
         "Hypopituitary": "f",
         "Psych": "f",
         "TSH Measured": "t",
         "TSH": "1.1",
         "T3 Measured": "t",
         "T3": "2.8",
         "TT4 Measured": "t",
         "TT4": "107",
         "T4U Measured": "t",
         "T4U": "1.09",
         "FTI Measured": "t",
         "FTI": "99",
         "TBG Measured": "f",
         "TBG": "?",
         "Referral Source": "other",
         "Class": 0,
         "_deepnote_index_column": 14
        },
        {
         "index": 1031,
         "Age": "35",
         "Sex": "M",
         "On Thyroxine": "f",
         "Query on Thyroxine": "f",
         "On Antithyroid Medication": "f",
         "Sick": "f",
         "Pregnant": "f",
         "Thyroid Surgery": "f",
         "I131 Treatment": "f",
         "Query Hypothyroid": "f",
         "Query Hyperthyroid": "f",
         "Lithium": "f",
         "Goiter": "f",
         "Tumor": "f",
         "Hypopituitary": "f",
         "Psych": "f",
         "TSH Measured": "t",
         "TSH": "2",
         "T3 Measured": "t",
         "T3": "2.6",
         "TT4 Measured": "t",
         "TT4": "102",
         "T4U Measured": "t",
         "T4U": "1.13",
         "FTI Measured": "t",
         "FTI": "91",
         "TBG Measured": "f",
         "TBG": "?",
         "Referral Source": "SVI",
         "Class": 0,
         "_deepnote_index_column": 15
        }
       ],
       "rows_bottom": [
        {
         "index": 1054,
         "Age": "69",
         "Sex": "M",
         "On Thyroxine": "f",
         "Query on Thyroxine": "f",
         "On Antithyroid Medication": "f",
         "Sick": "f",
         "Pregnant": "f",
         "Thyroid Surgery": "f",
         "I131 Treatment": "f",
         "Query Hypothyroid": "t",
         "Query Hyperthyroid": "f",
         "Lithium": "f",
         "Goiter": "f",
         "Tumor": "f",
         "Hypopituitary": "f",
         "Psych": "f",
         "TSH Measured": "t",
         "TSH": "1.3",
         "T3 Measured": "t",
         "T3": "1.9",
         "TT4 Measured": "t",
         "TT4": "101",
         "T4U Measured": "f",
         "T4U": "?",
         "FTI Measured": "f",
         "FTI": "?",
         "TBG Measured": "f",
         "TBG": "?",
         "Referral Source": "other",
         "Class": 0,
         "_deepnote_index_column": 2224
        },
        {
         "index": 2446,
         "Age": "48",
         "Sex": "F",
         "On Thyroxine": "f",
         "Query on Thyroxine": "f",
         "On Antithyroid Medication": "f",
         "Sick": "f",
         "Pregnant": "f",
         "Thyroid Surgery": "f",
         "I131 Treatment": "f",
         "Query Hypothyroid": "f",
         "Query Hyperthyroid": "f",
         "Lithium": "f",
         "Goiter": "f",
         "Tumor": "f",
         "Hypopituitary": "f",
         "Psych": "f",
         "TSH Measured": "t",
         "TSH": "0.7",
         "T3 Measured": "f",
         "T3": "?",
         "TT4 Measured": "t",
         "TT4": "114",
         "T4U Measured": "t",
         "T4U": "0.98",
         "FTI Measured": "t",
         "FTI": "117",
         "TBG Measured": "f",
         "TBG": "?",
         "Referral Source": "other",
         "Class": 0,
         "_deepnote_index_column": 2225
        },
        {
         "index": 659,
         "Age": "31",
         "Sex": "F",
         "On Thyroxine": "f",
         "Query on Thyroxine": "f",
         "On Antithyroid Medication": "f",
         "Sick": "f",
         "Pregnant": "f",
         "Thyroid Surgery": "f",
         "I131 Treatment": "f",
         "Query Hypothyroid": "f",
         "Query Hyperthyroid": "f",
         "Lithium": "f",
         "Goiter": "f",
         "Tumor": "f",
         "Hypopituitary": "f",
         "Psych": "f",
         "TSH Measured": "t",
         "TSH": "188",
         "T3 Measured": "t",
         "T3": "1.3",
         "TT4 Measured": "t",
         "TT4": "63",
         "T4U Measured": "t",
         "T4U": "1.19",
         "FTI Measured": "t",
         "FTI": "53",
         "TBG Measured": "f",
         "TBG": "?",
         "Referral Source": "other",
         "Class": 1,
         "_deepnote_index_column": 2226
        },
        {
         "index": 2433,
         "Age": "63",
         "Sex": "F",
         "On Thyroxine": "f",
         "Query on Thyroxine": "f",
         "On Antithyroid Medication": "f",
         "Sick": "f",
         "Pregnant": "f",
         "Thyroid Surgery": "f",
         "I131 Treatment": "t",
         "Query Hypothyroid": "f",
         "Query Hyperthyroid": "f",
         "Lithium": "f",
         "Goiter": "f",
         "Tumor": "f",
         "Hypopituitary": "f",
         "Psych": "f",
         "TSH Measured": "t",
         "TSH": "0.03",
         "T3 Measured": "t",
         "T3": "3.3",
         "TT4 Measured": "t",
         "TT4": "120",
         "T4U Measured": "t",
         "T4U": "0.96",
         "FTI Measured": "t",
         "FTI": "125",
         "TBG Measured": "f",
         "TBG": "?",
         "Referral Source": "other",
         "Class": 0,
         "_deepnote_index_column": 2227
        },
        {
         "index": 2099,
         "Age": "78",
         "Sex": "F",
         "On Thyroxine": "f",
         "Query on Thyroxine": "f",
         "On Antithyroid Medication": "f",
         "Sick": "f",
         "Pregnant": "f",
         "Thyroid Surgery": "f",
         "I131 Treatment": "f",
         "Query Hypothyroid": "f",
         "Query Hyperthyroid": "f",
         "Lithium": "f",
         "Goiter": "f",
         "Tumor": "f",
         "Hypopituitary": "f",
         "Psych": "f",
         "TSH Measured": "t",
         "TSH": "1.9",
         "T3 Measured": "t",
         "T3": "2.4",
         "TT4 Measured": "t",
         "TT4": "109",
         "T4U Measured": "f",
         "T4U": "?",
         "FTI Measured": "f",
         "FTI": "?",
         "TBG Measured": "f",
         "TBG": "?",
         "Referral Source": "other",
         "Class": 0,
         "_deepnote_index_column": 2228
        },
        {
         "index": 685,
         "Age": "63",
         "Sex": "?",
         "On Thyroxine": "f",
         "Query on Thyroxine": "f",
         "On Antithyroid Medication": "f",
         "Sick": "f",
         "Pregnant": "f",
         "Thyroid Surgery": "f",
         "I131 Treatment": "f",
         "Query Hypothyroid": "f",
         "Query Hyperthyroid": "f",
         "Lithium": "f",
         "Goiter": "f",
         "Tumor": "f",
         "Hypopituitary": "f",
         "Psych": "f",
         "TSH Measured": "f",
         "TSH": "?",
         "T3 Measured": "f",
         "T3": "?",
         "TT4 Measured": "f",
         "TT4": "?",
         "T4U Measured": "f",
         "T4U": "?",
         "FTI Measured": "f",
         "FTI": "?",
         "TBG Measured": "f",
         "TBG": "?",
         "Referral Source": "other",
         "Class": 0,
         "_deepnote_index_column": 2229
        },
        {
         "index": 159,
         "Age": "58",
         "Sex": "F",
         "On Thyroxine": "t",
         "Query on Thyroxine": "f",
         "On Antithyroid Medication": "f",
         "Sick": "f",
         "Pregnant": "f",
         "Thyroid Surgery": "f",
         "I131 Treatment": "f",
         "Query Hypothyroid": "f",
         "Query Hyperthyroid": "f",
         "Lithium": "f",
         "Goiter": "f",
         "Tumor": "f",
         "Hypopituitary": "f",
         "Psych": "f",
         "TSH Measured": "t",
         "TSH": "1.5",
         "T3 Measured": "t",
         "T3": "1.6",
         "TT4 Measured": "t",
         "TT4": "103",
         "T4U Measured": "t",
         "T4U": "0.9",
         "FTI Measured": "t",
         "FTI": "114",
         "TBG Measured": "f",
         "TBG": "?",
         "Referral Source": "other",
         "Class": 0,
         "_deepnote_index_column": 2230
        },
        {
         "index": 865,
         "Age": "35",
         "Sex": "M",
         "On Thyroxine": "f",
         "Query on Thyroxine": "t",
         "On Antithyroid Medication": "f",
         "Sick": "f",
         "Pregnant": "f",
         "Thyroid Surgery": "f",
         "I131 Treatment": "f",
         "Query Hypothyroid": "f",
         "Query Hyperthyroid": "f",
         "Lithium": "f",
         "Goiter": "f",
         "Tumor": "f",
         "Hypopituitary": "f",
         "Psych": "f",
         "TSH Measured": "t",
         "TSH": "0.035",
         "T3 Measured": "t",
         "T3": "1.7",
         "TT4 Measured": "t",
         "TT4": "114",
         "T4U Measured": "t",
         "T4U": "0.98",
         "FTI Measured": "t",
         "FTI": "115",
         "TBG Measured": "f",
         "TBG": "?",
         "Referral Source": "other",
         "Class": 0,
         "_deepnote_index_column": 2231
        },
        {
         "index": 1065,
         "Age": "47",
         "Sex": "F",
         "On Thyroxine": "f",
         "Query on Thyroxine": "f",
         "On Antithyroid Medication": "f",
         "Sick": "f",
         "Pregnant": "f",
         "Thyroid Surgery": "f",
         "I131 Treatment": "f",
         "Query Hypothyroid": "f",
         "Query Hyperthyroid": "f",
         "Lithium": "t",
         "Goiter": "f",
         "Tumor": "f",
         "Hypopituitary": "f",
         "Psych": "f",
         "TSH Measured": "t",
         "TSH": "2.2",
         "T3 Measured": "t",
         "T3": "2",
         "TT4 Measured": "t",
         "TT4": "108",
         "T4U Measured": "t",
         "T4U": "1.08",
         "FTI Measured": "t",
         "FTI": "100",
         "TBG Measured": "f",
         "TBG": "?",
         "Referral Source": "SVHC",
         "Class": 0,
         "_deepnote_index_column": 2232
        },
        {
         "index": 256,
         "Age": "49",
         "Sex": "F",
         "On Thyroxine": "t",
         "Query on Thyroxine": "f",
         "On Antithyroid Medication": "f",
         "Sick": "f",
         "Pregnant": "f",
         "Thyroid Surgery": "f",
         "I131 Treatment": "f",
         "Query Hypothyroid": "f",
         "Query Hyperthyroid": "f",
         "Lithium": "f",
         "Goiter": "f",
         "Tumor": "f",
         "Hypopituitary": "f",
         "Psych": "f",
         "TSH Measured": "t",
         "TSH": "1.2",
         "T3 Measured": "f",
         "T3": "?",
         "TT4 Measured": "t",
         "TT4": "87",
         "T4U Measured": "t",
         "T4U": "0.91",
         "FTI Measured": "t",
         "FTI": "95",
         "TBG Measured": "f",
         "TBG": "?",
         "Referral Source": "other",
         "Class": 0,
         "_deepnote_index_column": 2233
        },
        {
         "index": 1218,
         "Age": "35",
         "Sex": "F",
         "On Thyroxine": "f",
         "Query on Thyroxine": "f",
         "On Antithyroid Medication": "f",
         "Sick": "f",
         "Pregnant": "f",
         "Thyroid Surgery": "f",
         "I131 Treatment": "f",
         "Query Hypothyroid": "f",
         "Query Hyperthyroid": "f",
         "Lithium": "f",
         "Goiter": "f",
         "Tumor": "f",
         "Hypopituitary": "f",
         "Psych": "f",
         "TSH Measured": "f",
         "TSH": "?",
         "T3 Measured": "f",
         "T3": "?",
         "TT4 Measured": "t",
         "TT4": "110",
         "T4U Measured": "t",
         "T4U": "0.96",
         "FTI Measured": "t",
         "FTI": "114",
         "TBG Measured": "f",
         "TBG": "?",
         "Referral Source": "other",
         "Class": 0,
         "_deepnote_index_column": 2234
        },
        {
         "index": 1314,
         "Age": "77",
         "Sex": "F",
         "On Thyroxine": "f",
         "Query on Thyroxine": "f",
         "On Antithyroid Medication": "f",
         "Sick": "f",
         "Pregnant": "f",
         "Thyroid Surgery": "f",
         "I131 Treatment": "f",
         "Query Hypothyroid": "f",
         "Query Hyperthyroid": "f",
         "Lithium": "f",
         "Goiter": "f",
         "Tumor": "f",
         "Hypopituitary": "f",
         "Psych": "f",
         "TSH Measured": "t",
         "TSH": "0.27",
         "T3 Measured": "f",
         "T3": "?",
         "TT4 Measured": "f",
         "TT4": "?",
         "T4U Measured": "f",
         "T4U": "?",
         "FTI Measured": "f",
         "FTI": "?",
         "TBG Measured": "f",
         "TBG": "?",
         "Referral Source": "other",
         "Class": 0,
         "_deepnote_index_column": 2235
        },
        {
         "index": 1570,
         "Age": "59",
         "Sex": "F",
         "On Thyroxine": "f",
         "Query on Thyroxine": "f",
         "On Antithyroid Medication": "f",
         "Sick": "f",
         "Pregnant": "f",
         "Thyroid Surgery": "f",
         "I131 Treatment": "f",
         "Query Hypothyroid": "f",
         "Query Hyperthyroid": "f",
         "Lithium": "f",
         "Goiter": "f",
         "Tumor": "f",
         "Hypopituitary": "f",
         "Psych": "f",
         "TSH Measured": "t",
         "TSH": "4.3",
         "T3 Measured": "t",
         "T3": "1.2",
         "TT4 Measured": "t",
         "TT4": "59",
         "T4U Measured": "t",
         "T4U": "0.83",
         "FTI Measured": "t",
         "FTI": "71",
         "TBG Measured": "f",
         "TBG": "?",
         "Referral Source": "SVI",
         "Class": 0,
         "_deepnote_index_column": 2236
        },
        {
         "index": 1805,
         "Age": "69",
         "Sex": "M",
         "On Thyroxine": "f",
         "Query on Thyroxine": "f",
         "On Antithyroid Medication": "f",
         "Sick": "f",
         "Pregnant": "f",
         "Thyroid Surgery": "f",
         "I131 Treatment": "f",
         "Query Hypothyroid": "f",
         "Query Hyperthyroid": "f",
         "Lithium": "f",
         "Goiter": "f",
         "Tumor": "f",
         "Hypopituitary": "f",
         "Psych": "f",
         "TSH Measured": "t",
         "TSH": "0.25",
         "T3 Measured": "t",
         "T3": "1.6",
         "TT4 Measured": "t",
         "TT4": "86",
         "T4U Measured": "t",
         "T4U": "0.7",
         "FTI Measured": "t",
         "FTI": "123",
         "TBG Measured": "f",
         "TBG": "?",
         "Referral Source": "SVI",
         "Class": 0,
         "_deepnote_index_column": 2237
        },
        {
         "index": 226,
         "Age": "54",
         "Sex": "F",
         "On Thyroxine": "f",
         "Query on Thyroxine": "f",
         "On Antithyroid Medication": "f",
         "Sick": "f",
         "Pregnant": "f",
         "Thyroid Surgery": "f",
         "I131 Treatment": "f",
         "Query Hypothyroid": "f",
         "Query Hyperthyroid": "f",
         "Lithium": "f",
         "Goiter": "f",
         "Tumor": "f",
         "Hypopituitary": "f",
         "Psych": "f",
         "TSH Measured": "t",
         "TSH": "0.6",
         "T3 Measured": "t",
         "T3": "2.2",
         "TT4 Measured": "t",
         "TT4": "98",
         "T4U Measured": "t",
         "T4U": "1.03",
         "FTI Measured": "t",
         "FTI": "96",
         "TBG Measured": "f",
         "TBG": "?",
         "Referral Source": "SVI",
         "Class": 0,
         "_deepnote_index_column": 2238
        },
        {
         "index": 812,
         "Age": "61",
         "Sex": "F",
         "On Thyroxine": "f",
         "Query on Thyroxine": "f",
         "On Antithyroid Medication": "f",
         "Sick": "f",
         "Pregnant": "f",
         "Thyroid Surgery": "f",
         "I131 Treatment": "f",
         "Query Hypothyroid": "f",
         "Query Hyperthyroid": "f",
         "Lithium": "f",
         "Goiter": "f",
         "Tumor": "f",
         "Hypopituitary": "f",
         "Psych": "f",
         "TSH Measured": "t",
         "TSH": "6.9",
         "T3 Measured": "f",
         "T3": "?",
         "TT4 Measured": "t",
         "TT4": "126",
         "T4U Measured": "t",
         "T4U": "1.36",
         "FTI Measured": "t",
         "FTI": "93",
         "TBG Measured": "f",
         "TBG": "?",
         "Referral Source": "other",
         "Class": 1,
         "_deepnote_index_column": 2239
        }
       ]
      },
      "text/plain": "      index Age Sex On Thyroxine Query on Thyroxine On Antithyroid Medication  \\\n0       170  70   M            f                  f                         f   \n1       998  32   F            f                  f                         f   \n2      2687  57   M            f                  f                         f   \n3      2256  51   M            f                  f                         f   \n4       444  49   F            f                  f                         f   \n...     ...  ..  ..          ...                ...                       ...   \n2235   1314  77   F            f                  f                         f   \n2236   1570  59   F            f                  f                         f   \n2237   1805  69   M            f                  f                         f   \n2238    226  54   F            f                  f                         f   \n2239    812  61   F            f                  f                         f   \n\n     Sick Pregnant Thyroid Surgery I131 Treatment  ... TT4 Measured  TT4  \\\n0       t        f               f              f  ...            t  144   \n1       f        f               f              f  ...            f    ?   \n2       f        f               f              f  ...            t  117   \n3       f        f               f              f  ...            t   72   \n4       f        f               f              f  ...            t  100   \n...   ...      ...             ...            ...  ...          ...  ...   \n2235    f        f               f              f  ...            f    ?   \n2236    f        f               f              f  ...            t   59   \n2237    f        f               f              f  ...            t   86   \n2238    f        f               f              f  ...            t   98   \n2239    f        f               f              f  ...            t  126   \n\n     T4U Measured   T4U FTI Measured  FTI TBG Measured TBG Referral Source  \\\n0               t   1.2            t  120            f   ?            SVHD   \n1               f     ?            f    ?            f   ?           other   \n2               t  0.97            t  120            f   ?           other   \n3               t  0.84            t   85            f   ?             SVI   \n4               t  0.93            t  108            f   ?            SVHC   \n...           ...   ...          ...  ...          ...  ..             ...   \n2235            f     ?            f    ?            f   ?           other   \n2236            t  0.83            t   71            f   ?             SVI   \n2237            t   0.7            t  123            f   ?             SVI   \n2238            t  1.03            t   96            f   ?             SVI   \n2239            t  1.36            t   93            f   ?           other   \n\n     Class  \n0        0  \n1        0  \n2        0  \n3        0  \n4        0  \n...    ...  \n2235     0  \n2236     0  \n2237     0  \n2238     0  \n2239     1  \n\n[2240 rows x 31 columns]",
      "text/html": "<div>\n<style scoped>\n    .dataframe tbody tr th:only-of-type {\n        vertical-align: middle;\n    }\n\n    .dataframe tbody tr th {\n        vertical-align: top;\n    }\n\n    .dataframe thead th {\n        text-align: right;\n    }\n</style>\n<table border=\"1\" class=\"dataframe\">\n  <thead>\n    <tr style=\"text-align: right;\">\n      <th></th>\n      <th>index</th>\n      <th>Age</th>\n      <th>Sex</th>\n      <th>On Thyroxine</th>\n      <th>Query on Thyroxine</th>\n      <th>On Antithyroid Medication</th>\n      <th>Sick</th>\n      <th>Pregnant</th>\n      <th>Thyroid Surgery</th>\n      <th>I131 Treatment</th>\n      <th>...</th>\n      <th>TT4 Measured</th>\n      <th>TT4</th>\n      <th>T4U Measured</th>\n      <th>T4U</th>\n      <th>FTI Measured</th>\n      <th>FTI</th>\n      <th>TBG Measured</th>\n      <th>TBG</th>\n      <th>Referral Source</th>\n      <th>Class</th>\n    </tr>\n  </thead>\n  <tbody>\n    <tr>\n      <th>0</th>\n      <td>170</td>\n      <td>70</td>\n      <td>M</td>\n      <td>f</td>\n      <td>f</td>\n      <td>f</td>\n      <td>t</td>\n      <td>f</td>\n      <td>f</td>\n      <td>f</td>\n      <td>...</td>\n      <td>t</td>\n      <td>144</td>\n      <td>t</td>\n      <td>1.2</td>\n      <td>t</td>\n      <td>120</td>\n      <td>f</td>\n      <td>?</td>\n      <td>SVHD</td>\n      <td>0</td>\n    </tr>\n    <tr>\n      <th>1</th>\n      <td>998</td>\n      <td>32</td>\n      <td>F</td>\n      <td>f</td>\n      <td>f</td>\n      <td>f</td>\n      <td>f</td>\n      <td>f</td>\n      <td>f</td>\n      <td>f</td>\n      <td>...</td>\n      <td>f</td>\n      <td>?</td>\n      <td>f</td>\n      <td>?</td>\n      <td>f</td>\n      <td>?</td>\n      <td>f</td>\n      <td>?</td>\n      <td>other</td>\n      <td>0</td>\n    </tr>\n    <tr>\n      <th>2</th>\n      <td>2687</td>\n      <td>57</td>\n      <td>M</td>\n      <td>f</td>\n      <td>f</td>\n      <td>f</td>\n      <td>f</td>\n      <td>f</td>\n      <td>f</td>\n      <td>f</td>\n      <td>...</td>\n      <td>t</td>\n      <td>117</td>\n      <td>t</td>\n      <td>0.97</td>\n      <td>t</td>\n      <td>120</td>\n      <td>f</td>\n      <td>?</td>\n      <td>other</td>\n      <td>0</td>\n    </tr>\n    <tr>\n      <th>3</th>\n      <td>2256</td>\n      <td>51</td>\n      <td>M</td>\n      <td>f</td>\n      <td>f</td>\n      <td>f</td>\n      <td>f</td>\n      <td>f</td>\n      <td>f</td>\n      <td>f</td>\n      <td>...</td>\n      <td>t</td>\n      <td>72</td>\n      <td>t</td>\n      <td>0.84</td>\n      <td>t</td>\n      <td>85</td>\n      <td>f</td>\n      <td>?</td>\n      <td>SVI</td>\n      <td>0</td>\n    </tr>\n    <tr>\n      <th>4</th>\n      <td>444</td>\n      <td>49</td>\n      <td>F</td>\n      <td>f</td>\n      <td>f</td>\n      <td>f</td>\n      <td>f</td>\n      <td>f</td>\n      <td>f</td>\n      <td>f</td>\n      <td>...</td>\n      <td>t</td>\n      <td>100</td>\n      <td>t</td>\n      <td>0.93</td>\n      <td>t</td>\n      <td>108</td>\n      <td>f</td>\n      <td>?</td>\n      <td>SVHC</td>\n      <td>0</td>\n    </tr>\n    <tr>\n      <th>...</th>\n      <td>...</td>\n      <td>...</td>\n      <td>...</td>\n      <td>...</td>\n      <td>...</td>\n      <td>...</td>\n      <td>...</td>\n      <td>...</td>\n      <td>...</td>\n      <td>...</td>\n      <td>...</td>\n      <td>...</td>\n      <td>...</td>\n      <td>...</td>\n      <td>...</td>\n      <td>...</td>\n      <td>...</td>\n      <td>...</td>\n      <td>...</td>\n      <td>...</td>\n      <td>...</td>\n    </tr>\n    <tr>\n      <th>2235</th>\n      <td>1314</td>\n      <td>77</td>\n      <td>F</td>\n      <td>f</td>\n      <td>f</td>\n      <td>f</td>\n      <td>f</td>\n      <td>f</td>\n      <td>f</td>\n      <td>f</td>\n      <td>...</td>\n      <td>f</td>\n      <td>?</td>\n      <td>f</td>\n      <td>?</td>\n      <td>f</td>\n      <td>?</td>\n      <td>f</td>\n      <td>?</td>\n      <td>other</td>\n      <td>0</td>\n    </tr>\n    <tr>\n      <th>2236</th>\n      <td>1570</td>\n      <td>59</td>\n      <td>F</td>\n      <td>f</td>\n      <td>f</td>\n      <td>f</td>\n      <td>f</td>\n      <td>f</td>\n      <td>f</td>\n      <td>f</td>\n      <td>...</td>\n      <td>t</td>\n      <td>59</td>\n      <td>t</td>\n      <td>0.83</td>\n      <td>t</td>\n      <td>71</td>\n      <td>f</td>\n      <td>?</td>\n      <td>SVI</td>\n      <td>0</td>\n    </tr>\n    <tr>\n      <th>2237</th>\n      <td>1805</td>\n      <td>69</td>\n      <td>M</td>\n      <td>f</td>\n      <td>f</td>\n      <td>f</td>\n      <td>f</td>\n      <td>f</td>\n      <td>f</td>\n      <td>f</td>\n      <td>...</td>\n      <td>t</td>\n      <td>86</td>\n      <td>t</td>\n      <td>0.7</td>\n      <td>t</td>\n      <td>123</td>\n      <td>f</td>\n      <td>?</td>\n      <td>SVI</td>\n      <td>0</td>\n    </tr>\n    <tr>\n      <th>2238</th>\n      <td>226</td>\n      <td>54</td>\n      <td>F</td>\n      <td>f</td>\n      <td>f</td>\n      <td>f</td>\n      <td>f</td>\n      <td>f</td>\n      <td>f</td>\n      <td>f</td>\n      <td>...</td>\n      <td>t</td>\n      <td>98</td>\n      <td>t</td>\n      <td>1.03</td>\n      <td>t</td>\n      <td>96</td>\n      <td>f</td>\n      <td>?</td>\n      <td>SVI</td>\n      <td>0</td>\n    </tr>\n    <tr>\n      <th>2239</th>\n      <td>812</td>\n      <td>61</td>\n      <td>F</td>\n      <td>f</td>\n      <td>f</td>\n      <td>f</td>\n      <td>f</td>\n      <td>f</td>\n      <td>f</td>\n      <td>f</td>\n      <td>...</td>\n      <td>t</td>\n      <td>126</td>\n      <td>t</td>\n      <td>1.36</td>\n      <td>t</td>\n      <td>93</td>\n      <td>f</td>\n      <td>?</td>\n      <td>other</td>\n      <td>1</td>\n    </tr>\n  </tbody>\n</table>\n<p>2240 rows × 31 columns</p>\n</div>"
     },
     "metadata": {}
    }
   ],
   "execution_count": null
  },
  {
   "cell_type": "code",
   "metadata": {
    "tags": [],
    "cell_id": "00010-c3c02f44-ddaa-4f69-840a-0d856ea1ced0",
    "deepnote_to_be_reexecuted": false,
    "source_hash": "f0338d5e",
    "execution_start": 1625514653886,
    "execution_millis": 181,
    "deepnote_cell_type": "code"
   },
   "source": "data_val.reset_index()",
   "outputs": [
    {
     "output_type": "execute_result",
     "execution_count": 182,
     "data": {
      "application/vnd.deepnote.dataframe.v2+json": {
       "row_count": 560,
       "column_count": 31,
       "columns": [
        {
         "name": "index",
         "dtype": "int64",
         "stats": {
          "unique_count": 560,
          "nan_count": 0,
          "min": "0",
          "max": "2796",
          "histogram": [
           {
            "bin_start": 0,
            "bin_end": 279.6,
            "count": 43
           },
           {
            "bin_start": 279.6,
            "bin_end": 559.2,
            "count": 52
           },
           {
            "bin_start": 559.2,
            "bin_end": 838.8000000000001,
            "count": 54
           },
           {
            "bin_start": 838.8000000000001,
            "bin_end": 1118.4,
            "count": 61
           },
           {
            "bin_start": 1118.4,
            "bin_end": 1398,
            "count": 61
           },
           {
            "bin_start": 1398,
            "bin_end": 1677.6000000000001,
            "count": 56
           },
           {
            "bin_start": 1677.6000000000001,
            "bin_end": 1957.2000000000003,
            "count": 60
           },
           {
            "bin_start": 1957.2000000000003,
            "bin_end": 2236.8,
            "count": 63
           },
           {
            "bin_start": 2236.8,
            "bin_end": 2516.4,
            "count": 57
           },
           {
            "bin_start": 2516.4,
            "bin_end": 2796,
            "count": 53
           }
          ]
         }
        },
        {
         "name": "Age",
         "dtype": "object",
         "stats": {
          "unique_count": 78,
          "nan_count": 0,
          "categories": [
           {
            "name": "73",
            "count": 20
           },
           {
            "name": "59",
            "count": 19
           },
           {
            "name": "76 others",
            "count": 521
           }
          ]
         }
        },
        {
         "name": "Sex",
         "dtype": "object",
         "stats": {
          "unique_count": 3,
          "nan_count": 0,
          "categories": [
           {
            "name": "F",
            "count": 376
           },
           {
            "name": "M",
            "count": 163
           },
           {
            "name": "?",
            "count": 21
           }
          ]
         }
        },
        {
         "name": "On Thyroxine",
         "dtype": "object",
         "stats": {
          "unique_count": 2,
          "nan_count": 0,
          "categories": [
           {
            "name": "f",
            "count": 496
           },
           {
            "name": "t",
            "count": 64
           }
          ]
         }
        },
        {
         "name": "Query on Thyroxine",
         "dtype": "object",
         "stats": {
          "unique_count": 2,
          "nan_count": 0,
          "categories": [
           {
            "name": "f",
            "count": 550
           },
           {
            "name": "t",
            "count": 10
           }
          ]
         }
        },
        {
         "name": "On Antithyroid Medication",
         "dtype": "object",
         "stats": {
          "unique_count": 2,
          "nan_count": 0,
          "categories": [
           {
            "name": "f",
            "count": 550
           },
           {
            "name": "t",
            "count": 10
           }
          ]
         }
        },
        {
         "name": "Sick",
         "dtype": "object",
         "stats": {
          "unique_count": 2,
          "nan_count": 0,
          "categories": [
           {
            "name": "f",
            "count": 539
           },
           {
            "name": "t",
            "count": 21
           }
          ]
         }
        },
        {
         "name": "Pregnant",
         "dtype": "object",
         "stats": {
          "unique_count": 2,
          "nan_count": 0,
          "categories": [
           {
            "name": "f",
            "count": 554
           },
           {
            "name": "t",
            "count": 6
           }
          ]
         }
        },
        {
         "name": "Thyroid Surgery",
         "dtype": "object",
         "stats": {
          "unique_count": 2,
          "nan_count": 0,
          "categories": [
           {
            "name": "f",
            "count": 552
           },
           {
            "name": "t",
            "count": 8
           }
          ]
         }
        },
        {
         "name": "I131 Treatment",
         "dtype": "object",
         "stats": {
          "unique_count": 2,
          "nan_count": 0,
          "categories": [
           {
            "name": "f",
            "count": 549
           },
           {
            "name": "t",
            "count": 11
           }
          ]
         }
        },
        {
         "name": "Query Hypothyroid",
         "dtype": "object",
         "stats": {
          "unique_count": 2,
          "nan_count": 0,
          "categories": [
           {
            "name": "f",
            "count": 524
           },
           {
            "name": "t",
            "count": 36
           }
          ]
         }
        },
        {
         "name": "Query Hyperthyroid",
         "dtype": "object",
         "stats": {
          "unique_count": 2,
          "nan_count": 0,
          "categories": [
           {
            "name": "f",
            "count": 530
           },
           {
            "name": "t",
            "count": 30
           }
          ]
         }
        },
        {
         "name": "Lithium",
         "dtype": "object",
         "stats": {
          "unique_count": 2,
          "nan_count": 0,
          "categories": [
           {
            "name": "f",
            "count": 559
           },
           {
            "name": "t",
            "count": 1
           }
          ]
         }
        },
        {
         "name": "Goiter",
         "dtype": "object",
         "stats": {
          "unique_count": 2,
          "nan_count": 0,
          "categories": [
           {
            "name": "f",
            "count": 554
           },
           {
            "name": "t",
            "count": 6
           }
          ]
         }
        },
        {
         "name": "Tumor",
         "dtype": "object",
         "stats": {
          "unique_count": 2,
          "nan_count": 0,
          "categories": [
           {
            "name": "f",
            "count": 545
           },
           {
            "name": "t",
            "count": 15
           }
          ]
         }
        },
        {
         "name": "Hypopituitary",
         "dtype": "object",
         "stats": {
          "unique_count": 1,
          "nan_count": 0,
          "categories": [
           {
            "name": "f",
            "count": 560
           }
          ]
         }
        },
        {
         "name": "Psych",
         "dtype": "object",
         "stats": {
          "unique_count": 2,
          "nan_count": 0,
          "categories": [
           {
            "name": "f",
            "count": 534
           },
           {
            "name": "t",
            "count": 26
           }
          ]
         }
        },
        {
         "name": "TSH Measured",
         "dtype": "object",
         "stats": {
          "unique_count": 2,
          "nan_count": 0,
          "categories": [
           {
            "name": "t",
            "count": 495
           },
           {
            "name": "f",
            "count": 65
           }
          ]
         }
        },
        {
         "name": "TSH",
         "dtype": "object",
         "stats": {
          "unique_count": 143,
          "nan_count": 0,
          "categories": [
           {
            "name": "?",
            "count": 65
           },
           {
            "name": "2.3",
            "count": 16
           },
           {
            "name": "141 others",
            "count": 479
           }
          ]
         }
        },
        {
         "name": "T3 Measured",
         "dtype": "object",
         "stats": {
          "unique_count": 2,
          "nan_count": 0,
          "categories": [
           {
            "name": "t",
            "count": 443
           },
           {
            "name": "f",
            "count": 117
           }
          ]
         }
        },
        {
         "name": "T3",
         "dtype": "object",
         "stats": {
          "unique_count": 44,
          "nan_count": 0,
          "categories": [
           {
            "name": "?",
            "count": 117
           },
           {
            "name": "2.2",
            "count": 36
           },
           {
            "name": "42 others",
            "count": 407
           }
          ]
         }
        },
        {
         "name": "TT4 Measured",
         "dtype": "object",
         "stats": {
          "unique_count": 2,
          "nan_count": 0,
          "categories": [
           {
            "name": "t",
            "count": 512
           },
           {
            "name": "f",
            "count": 48
           }
          ]
         }
        },
        {
         "name": "TT4",
         "dtype": "object",
         "stats": {
          "unique_count": 139,
          "nan_count": 0,
          "categories": [
           {
            "name": "?",
            "count": 48
           },
           {
            "name": "101",
            "count": 13
           },
           {
            "name": "137 others",
            "count": 499
           }
          ]
         }
        },
        {
         "name": "T4U Measured",
         "dtype": "object",
         "stats": {
          "unique_count": 2,
          "nan_count": 0,
          "categories": [
           {
            "name": "t",
            "count": 488
           },
           {
            "name": "f",
            "count": 72
           }
          ]
         }
        },
        {
         "name": "T4U",
         "dtype": "object",
         "stats": {
          "unique_count": 96,
          "nan_count": 0,
          "categories": [
           {
            "name": "?",
            "count": 72
           },
           {
            "name": "0.91",
            "count": 15
           },
           {
            "name": "94 others",
            "count": 473
           }
          ]
         }
        },
        {
         "name": "FTI Measured",
         "dtype": "object",
         "stats": {
          "unique_count": 2,
          "nan_count": 0,
          "categories": [
           {
            "name": "t",
            "count": 490
           },
           {
            "name": "f",
            "count": 70
           }
          ]
         }
        },
        {
         "name": "FTI",
         "dtype": "object",
         "stats": {
          "unique_count": 124,
          "nan_count": 0,
          "categories": [
           {
            "name": "?",
            "count": 70
           },
           {
            "name": "96",
            "count": 14
           },
           {
            "name": "122 others",
            "count": 476
           }
          ]
         }
        },
        {
         "name": "TBG Measured",
         "dtype": "object",
         "stats": {
          "unique_count": 1,
          "nan_count": 0,
          "categories": [
           {
            "name": "f",
            "count": 560
           }
          ]
         }
        },
        {
         "name": "TBG",
         "dtype": "object",
         "stats": {
          "unique_count": 1,
          "nan_count": 0,
          "categories": [
           {
            "name": "?",
            "count": 560
           }
          ]
         }
        },
        {
         "name": "Referral Source",
         "dtype": "object",
         "stats": {
          "unique_count": 5,
          "nan_count": 0,
          "categories": [
           {
            "name": "other",
            "count": 326
           },
           {
            "name": "SVI",
            "count": 157
           },
           {
            "name": "3 others",
            "count": 77
           }
          ]
         }
        },
        {
         "name": "Class",
         "dtype": "int64",
         "stats": {
          "unique_count": 2,
          "nan_count": 0,
          "min": "0",
          "max": "1",
          "histogram": [
           {
            "bin_start": 0,
            "bin_end": 0.1,
            "count": 516
           },
           {
            "bin_start": 0.1,
            "bin_end": 0.2,
            "count": 0
           },
           {
            "bin_start": 0.2,
            "bin_end": 0.30000000000000004,
            "count": 0
           },
           {
            "bin_start": 0.30000000000000004,
            "bin_end": 0.4,
            "count": 0
           },
           {
            "bin_start": 0.4,
            "bin_end": 0.5,
            "count": 0
           },
           {
            "bin_start": 0.5,
            "bin_end": 0.6000000000000001,
            "count": 0
           },
           {
            "bin_start": 0.6000000000000001,
            "bin_end": 0.7000000000000001,
            "count": 0
           },
           {
            "bin_start": 0.7000000000000001,
            "bin_end": 0.8,
            "count": 0
           },
           {
            "bin_start": 0.8,
            "bin_end": 0.9,
            "count": 0
           },
           {
            "bin_start": 0.9,
            "bin_end": 1,
            "count": 44
           }
          ]
         }
        },
        {
         "name": "_deepnote_index_column",
         "dtype": "int64"
        }
       ],
       "rows_top": [
        {
         "index": 802,
         "Age": "70",
         "Sex": "F",
         "On Thyroxine": "t",
         "Query on Thyroxine": "f",
         "On Antithyroid Medication": "f",
         "Sick": "f",
         "Pregnant": "f",
         "Thyroid Surgery": "f",
         "I131 Treatment": "f",
         "Query Hypothyroid": "f",
         "Query Hyperthyroid": "f",
         "Lithium": "f",
         "Goiter": "f",
         "Tumor": "f",
         "Hypopituitary": "f",
         "Psych": "f",
         "TSH Measured": "t",
         "TSH": "0.1",
         "T3 Measured": "t",
         "T3": "1.8",
         "TT4 Measured": "t",
         "TT4": "170",
         "T4U Measured": "t",
         "T4U": "0.99",
         "FTI Measured": "t",
         "FTI": "171",
         "TBG Measured": "f",
         "TBG": "?",
         "Referral Source": "SVHD",
         "Class": 0,
         "_deepnote_index_column": 0
        },
        {
         "index": 1366,
         "Age": "18",
         "Sex": "?",
         "On Thyroxine": "f",
         "Query on Thyroxine": "f",
         "On Antithyroid Medication": "f",
         "Sick": "f",
         "Pregnant": "f",
         "Thyroid Surgery": "f",
         "I131 Treatment": "f",
         "Query Hypothyroid": "f",
         "Query Hyperthyroid": "f",
         "Lithium": "f",
         "Goiter": "f",
         "Tumor": "f",
         "Hypopituitary": "f",
         "Psych": "f",
         "TSH Measured": "t",
         "TSH": "1.5",
         "T3 Measured": "t",
         "T3": "2.6",
         "TT4 Measured": "t",
         "TT4": "86",
         "T4U Measured": "t",
         "T4U": "0.91",
         "FTI Measured": "t",
         "FTI": "94",
         "TBG Measured": "f",
         "TBG": "?",
         "Referral Source": "SVI",
         "Class": 0,
         "_deepnote_index_column": 1
        },
        {
         "index": 575,
         "Age": "29",
         "Sex": "?",
         "On Thyroxine": "f",
         "Query on Thyroxine": "f",
         "On Antithyroid Medication": "f",
         "Sick": "f",
         "Pregnant": "f",
         "Thyroid Surgery": "f",
         "I131 Treatment": "f",
         "Query Hypothyroid": "f",
         "Query Hyperthyroid": "f",
         "Lithium": "f",
         "Goiter": "f",
         "Tumor": "f",
         "Hypopituitary": "f",
         "Psych": "f",
         "TSH Measured": "t",
         "TSH": "4.4",
         "T3 Measured": "t",
         "T3": "1.7",
         "TT4 Measured": "t",
         "TT4": "94",
         "T4U Measured": "t",
         "T4U": "0.97",
         "FTI Measured": "t",
         "FTI": "97",
         "TBG Measured": "f",
         "TBG": "?",
         "Referral Source": "other",
         "Class": 0,
         "_deepnote_index_column": 2
        },
        {
         "index": 687,
         "Age": "39",
         "Sex": "F",
         "On Thyroxine": "f",
         "Query on Thyroxine": "f",
         "On Antithyroid Medication": "f",
         "Sick": "f",
         "Pregnant": "f",
         "Thyroid Surgery": "f",
         "I131 Treatment": "f",
         "Query Hypothyroid": "f",
         "Query Hyperthyroid": "f",
         "Lithium": "f",
         "Goiter": "f",
         "Tumor": "f",
         "Hypopituitary": "f",
         "Psych": "f",
         "TSH Measured": "t",
         "TSH": "0.3",
         "T3 Measured": "f",
         "T3": "?",
         "TT4 Measured": "f",
         "TT4": "?",
         "T4U Measured": "f",
         "T4U": "?",
         "FTI Measured": "f",
         "FTI": "?",
         "TBG Measured": "f",
         "TBG": "?",
         "Referral Source": "SVI",
         "Class": 0,
         "_deepnote_index_column": 3
        },
        {
         "index": 1461,
         "Age": "63",
         "Sex": "F",
         "On Thyroxine": "f",
         "Query on Thyroxine": "f",
         "On Antithyroid Medication": "f",
         "Sick": "f",
         "Pregnant": "f",
         "Thyroid Surgery": "f",
         "I131 Treatment": "f",
         "Query Hypothyroid": "f",
         "Query Hyperthyroid": "f",
         "Lithium": "f",
         "Goiter": "f",
         "Tumor": "f",
         "Hypopituitary": "f",
         "Psych": "f",
         "TSH Measured": "t",
         "TSH": "1.4",
         "T3 Measured": "t",
         "T3": "1.9",
         "TT4 Measured": "t",
         "TT4": "118",
         "T4U Measured": "f",
         "T4U": "?",
         "FTI Measured": "f",
         "FTI": "?",
         "TBG Measured": "f",
         "TBG": "?",
         "Referral Source": "other",
         "Class": 0,
         "_deepnote_index_column": 4
        },
        {
         "index": 1582,
         "Age": "73",
         "Sex": "F",
         "On Thyroxine": "f",
         "Query on Thyroxine": "f",
         "On Antithyroid Medication": "f",
         "Sick": "f",
         "Pregnant": "f",
         "Thyroid Surgery": "f",
         "I131 Treatment": "f",
         "Query Hypothyroid": "f",
         "Query Hyperthyroid": "t",
         "Lithium": "f",
         "Goiter": "f",
         "Tumor": "f",
         "Hypopituitary": "f",
         "Psych": "f",
         "TSH Measured": "t",
         "TSH": "2",
         "T3 Measured": "t",
         "T3": "1.6",
         "TT4 Measured": "t",
         "TT4": "116",
         "T4U Measured": "t",
         "T4U": "0.93",
         "FTI Measured": "t",
         "FTI": "125",
         "TBG Measured": "f",
         "TBG": "?",
         "Referral Source": "SVI",
         "Class": 0,
         "_deepnote_index_column": 5
        },
        {
         "index": 1960,
         "Age": "24",
         "Sex": "F",
         "On Thyroxine": "f",
         "Query on Thyroxine": "f",
         "On Antithyroid Medication": "f",
         "Sick": "f",
         "Pregnant": "f",
         "Thyroid Surgery": "f",
         "I131 Treatment": "f",
         "Query Hypothyroid": "f",
         "Query Hyperthyroid": "f",
         "Lithium": "f",
         "Goiter": "f",
         "Tumor": "f",
         "Hypopituitary": "f",
         "Psych": "f",
         "TSH Measured": "t",
         "TSH": "0.85",
         "T3 Measured": "t",
         "T3": "3",
         "TT4 Measured": "t",
         "TT4": "121",
         "T4U Measured": "t",
         "T4U": "1.25",
         "FTI Measured": "t",
         "FTI": "97",
         "TBG Measured": "f",
         "TBG": "?",
         "Referral Source": "STMW",
         "Class": 0,
         "_deepnote_index_column": 6
        },
        {
         "index": 1251,
         "Age": "28",
         "Sex": "F",
         "On Thyroxine": "f",
         "Query on Thyroxine": "t",
         "On Antithyroid Medication": "f",
         "Sick": "f",
         "Pregnant": "f",
         "Thyroid Surgery": "t",
         "I131 Treatment": "f",
         "Query Hypothyroid": "f",
         "Query Hyperthyroid": "f",
         "Lithium": "f",
         "Goiter": "f",
         "Tumor": "f",
         "Hypopituitary": "f",
         "Psych": "f",
         "TSH Measured": "t",
         "TSH": "1.5",
         "T3 Measured": "t",
         "T3": "1.5",
         "TT4 Measured": "t",
         "TT4": "120",
         "T4U Measured": "t",
         "T4U": "1.01",
         "FTI Measured": "t",
         "FTI": "118",
         "TBG Measured": "f",
         "TBG": "?",
         "Referral Source": "SVI",
         "Class": 0,
         "_deepnote_index_column": 7
        },
        {
         "index": 650,
         "Age": "68",
         "Sex": "F",
         "On Thyroxine": "f",
         "Query on Thyroxine": "f",
         "On Antithyroid Medication": "f",
         "Sick": "f",
         "Pregnant": "f",
         "Thyroid Surgery": "f",
         "I131 Treatment": "f",
         "Query Hypothyroid": "f",
         "Query Hyperthyroid": "f",
         "Lithium": "f",
         "Goiter": "f",
         "Tumor": "f",
         "Hypopituitary": "f",
         "Psych": "f",
         "TSH Measured": "t",
         "TSH": "24",
         "T3 Measured": "t",
         "T3": "1.3",
         "TT4 Measured": "t",
         "TT4": "84",
         "T4U Measured": "t",
         "T4U": "0.82",
         "FTI Measured": "t",
         "FTI": "102",
         "TBG Measured": "f",
         "TBG": "?",
         "Referral Source": "SVI",
         "Class": 1,
         "_deepnote_index_column": 8
        },
        {
         "index": 275,
         "Age": "73",
         "Sex": "F",
         "On Thyroxine": "f",
         "Query on Thyroxine": "f",
         "On Antithyroid Medication": "f",
         "Sick": "f",
         "Pregnant": "f",
         "Thyroid Surgery": "f",
         "I131 Treatment": "f",
         "Query Hypothyroid": "f",
         "Query Hyperthyroid": "f",
         "Lithium": "f",
         "Goiter": "f",
         "Tumor": "f",
         "Hypopituitary": "f",
         "Psych": "f",
         "TSH Measured": "t",
         "TSH": "0.6",
         "T3 Measured": "t",
         "T3": "1.3",
         "TT4 Measured": "t",
         "TT4": "146",
         "T4U Measured": "t",
         "T4U": "0.89",
         "FTI Measured": "t",
         "FTI": "165",
         "TBG Measured": "f",
         "TBG": "?",
         "Referral Source": "other",
         "Class": 0,
         "_deepnote_index_column": 9
        },
        {
         "index": 1998,
         "Age": "21",
         "Sex": "F",
         "On Thyroxine": "f",
         "Query on Thyroxine": "f",
         "On Antithyroid Medication": "f",
         "Sick": "f",
         "Pregnant": "f",
         "Thyroid Surgery": "f",
         "I131 Treatment": "f",
         "Query Hypothyroid": "f",
         "Query Hyperthyroid": "f",
         "Lithium": "f",
         "Goiter": "f",
         "Tumor": "f",
         "Hypopituitary": "f",
         "Psych": "t",
         "TSH Measured": "t",
         "TSH": "1.4",
         "T3 Measured": "t",
         "T3": "1.6",
         "TT4 Measured": "t",
         "TT4": "95",
         "T4U Measured": "t",
         "T4U": "0.93",
         "FTI Measured": "t",
         "FTI": "102",
         "TBG Measured": "f",
         "TBG": "?",
         "Referral Source": "SVHC",
         "Class": 0,
         "_deepnote_index_column": 10
        },
        {
         "index": 164,
         "Age": "41",
         "Sex": "F",
         "On Thyroxine": "t",
         "Query on Thyroxine": "f",
         "On Antithyroid Medication": "f",
         "Sick": "f",
         "Pregnant": "f",
         "Thyroid Surgery": "f",
         "I131 Treatment": "f",
         "Query Hypothyroid": "f",
         "Query Hyperthyroid": "f",
         "Lithium": "f",
         "Goiter": "f",
         "Tumor": "f",
         "Hypopituitary": "f",
         "Psych": "f",
         "TSH Measured": "t",
         "TSH": "6",
         "T3 Measured": "t",
         "T3": "1.9",
         "TT4 Measured": "t",
         "TT4": "114",
         "T4U Measured": "t",
         "T4U": "1",
         "FTI Measured": "t",
         "FTI": "114",
         "TBG Measured": "f",
         "TBG": "?",
         "Referral Source": "other",
         "Class": 0,
         "_deepnote_index_column": 11
        },
        {
         "index": 2331,
         "Age": "42",
         "Sex": "F",
         "On Thyroxine": "f",
         "Query on Thyroxine": "f",
         "On Antithyroid Medication": "f",
         "Sick": "f",
         "Pregnant": "f",
         "Thyroid Surgery": "f",
         "I131 Treatment": "f",
         "Query Hypothyroid": "f",
         "Query Hyperthyroid": "f",
         "Lithium": "f",
         "Goiter": "f",
         "Tumor": "f",
         "Hypopituitary": "f",
         "Psych": "f",
         "TSH Measured": "t",
         "TSH": "3.6",
         "T3 Measured": "t",
         "T3": "1.9",
         "TT4 Measured": "t",
         "TT4": "87",
         "T4U Measured": "f",
         "T4U": "?",
         "FTI Measured": "f",
         "FTI": "?",
         "TBG Measured": "f",
         "TBG": "?",
         "Referral Source": "other",
         "Class": 0,
         "_deepnote_index_column": 12
        },
        {
         "index": 2526,
         "Age": "73",
         "Sex": "F",
         "On Thyroxine": "f",
         "Query on Thyroxine": "f",
         "On Antithyroid Medication": "f",
         "Sick": "f",
         "Pregnant": "f",
         "Thyroid Surgery": "f",
         "I131 Treatment": "t",
         "Query Hypothyroid": "f",
         "Query Hyperthyroid": "f",
         "Lithium": "f",
         "Goiter": "f",
         "Tumor": "f",
         "Hypopituitary": "f",
         "Psych": "f",
         "TSH Measured": "t",
         "TSH": "0.005",
         "T3 Measured": "f",
         "T3": "?",
         "TT4 Measured": "t",
         "TT4": "102",
         "T4U Measured": "t",
         "T4U": "0.89",
         "FTI Measured": "t",
         "FTI": "115",
         "TBG Measured": "f",
         "TBG": "?",
         "Referral Source": "other",
         "Class": 0,
         "_deepnote_index_column": 13
        },
        {
         "index": 2543,
         "Age": "62",
         "Sex": "M",
         "On Thyroxine": "f",
         "Query on Thyroxine": "f",
         "On Antithyroid Medication": "f",
         "Sick": "f",
         "Pregnant": "f",
         "Thyroid Surgery": "f",
         "I131 Treatment": "f",
         "Query Hypothyroid": "f",
         "Query Hyperthyroid": "f",
         "Lithium": "f",
         "Goiter": "f",
         "Tumor": "f",
         "Hypopituitary": "f",
         "Psych": "f",
         "TSH Measured": "t",
         "TSH": "1.1",
         "T3 Measured": "t",
         "T3": "1.7",
         "TT4 Measured": "t",
         "TT4": "105",
         "T4U Measured": "t",
         "T4U": "1.02",
         "FTI Measured": "t",
         "FTI": "103",
         "TBG Measured": "f",
         "TBG": "?",
         "Referral Source": "SVHC",
         "Class": 0,
         "_deepnote_index_column": 14
        },
        {
         "index": 702,
         "Age": "44",
         "Sex": "M",
         "On Thyroxine": "f",
         "Query on Thyroxine": "f",
         "On Antithyroid Medication": "f",
         "Sick": "f",
         "Pregnant": "f",
         "Thyroid Surgery": "f",
         "I131 Treatment": "f",
         "Query Hypothyroid": "f",
         "Query Hyperthyroid": "f",
         "Lithium": "f",
         "Goiter": "t",
         "Tumor": "f",
         "Hypopituitary": "f",
         "Psych": "f",
         "TSH Measured": "t",
         "TSH": "0.89",
         "T3 Measured": "f",
         "T3": "?",
         "TT4 Measured": "t",
         "TT4": "40",
         "T4U Measured": "t",
         "T4U": "0.96",
         "FTI Measured": "t",
         "FTI": "42",
         "TBG Measured": "f",
         "TBG": "?",
         "Referral Source": "SVI",
         "Class": 0,
         "_deepnote_index_column": 15
        }
       ],
       "rows_bottom": [
        {
         "index": 1428,
         "Age": "52",
         "Sex": "F",
         "On Thyroxine": "f",
         "Query on Thyroxine": "f",
         "On Antithyroid Medication": "f",
         "Sick": "f",
         "Pregnant": "f",
         "Thyroid Surgery": "f",
         "I131 Treatment": "f",
         "Query Hypothyroid": "f",
         "Query Hyperthyroid": "f",
         "Lithium": "f",
         "Goiter": "f",
         "Tumor": "f",
         "Hypopituitary": "f",
         "Psych": "f",
         "TSH Measured": "t",
         "TSH": "0.2",
         "T3 Measured": "f",
         "T3": "?",
         "TT4 Measured": "t",
         "TT4": "105",
         "T4U Measured": "t",
         "T4U": "0.97",
         "FTI Measured": "t",
         "FTI": "108",
         "TBG Measured": "f",
         "TBG": "?",
         "Referral Source": "other",
         "Class": 0,
         "_deepnote_index_column": 544
        },
        {
         "index": 1044,
         "Age": "34",
         "Sex": "M",
         "On Thyroxine": "f",
         "Query on Thyroxine": "f",
         "On Antithyroid Medication": "f",
         "Sick": "f",
         "Pregnant": "f",
         "Thyroid Surgery": "f",
         "I131 Treatment": "f",
         "Query Hypothyroid": "f",
         "Query Hyperthyroid": "f",
         "Lithium": "f",
         "Goiter": "f",
         "Tumor": "f",
         "Hypopituitary": "f",
         "Psych": "f",
         "TSH Measured": "t",
         "TSH": "2.1",
         "T3 Measured": "t",
         "T3": "1.7",
         "TT4 Measured": "t",
         "TT4": "138",
         "T4U Measured": "t",
         "T4U": "1.03",
         "FTI Measured": "t",
         "FTI": "134",
         "TBG Measured": "f",
         "TBG": "?",
         "Referral Source": "SVI",
         "Class": 0,
         "_deepnote_index_column": 545
        },
        {
         "index": 1211,
         "Age": "73",
         "Sex": "M",
         "On Thyroxine": "f",
         "Query on Thyroxine": "f",
         "On Antithyroid Medication": "f",
         "Sick": "f",
         "Pregnant": "f",
         "Thyroid Surgery": "f",
         "I131 Treatment": "f",
         "Query Hypothyroid": "f",
         "Query Hyperthyroid": "f",
         "Lithium": "f",
         "Goiter": "f",
         "Tumor": "f",
         "Hypopituitary": "f",
         "Psych": "f",
         "TSH Measured": "t",
         "TSH": "0.4",
         "T3 Measured": "t",
         "T3": "2.3",
         "TT4 Measured": "t",
         "TT4": "94",
         "T4U Measured": "t",
         "T4U": "0.9",
         "FTI Measured": "t",
         "FTI": "105",
         "TBG Measured": "f",
         "TBG": "?",
         "Referral Source": "SVI",
         "Class": 0,
         "_deepnote_index_column": 546
        },
        {
         "index": 995,
         "Age": "34",
         "Sex": "F",
         "On Thyroxine": "f",
         "Query on Thyroxine": "f",
         "On Antithyroid Medication": "t",
         "Sick": "f",
         "Pregnant": "t",
         "Thyroid Surgery": "f",
         "I131 Treatment": "f",
         "Query Hypothyroid": "f",
         "Query Hyperthyroid": "t",
         "Lithium": "f",
         "Goiter": "f",
         "Tumor": "f",
         "Hypopituitary": "f",
         "Psych": "f",
         "TSH Measured": "t",
         "TSH": "0.01",
         "T3 Measured": "t",
         "T3": "3.8",
         "TT4 Measured": "t",
         "TT4": "205",
         "T4U Measured": "t",
         "T4U": "1.84",
         "FTI Measured": "t",
         "FTI": "111",
         "TBG Measured": "f",
         "TBG": "?",
         "Referral Source": "STMW",
         "Class": 0,
         "_deepnote_index_column": 547
        },
        {
         "index": 1271,
         "Age": "26",
         "Sex": "F",
         "On Thyroxine": "f",
         "Query on Thyroxine": "t",
         "On Antithyroid Medication": "f",
         "Sick": "f",
         "Pregnant": "f",
         "Thyroid Surgery": "f",
         "I131 Treatment": "f",
         "Query Hypothyroid": "f",
         "Query Hyperthyroid": "f",
         "Lithium": "f",
         "Goiter": "f",
         "Tumor": "f",
         "Hypopituitary": "f",
         "Psych": "f",
         "TSH Measured": "t",
         "TSH": "9.2",
         "T3 Measured": "t",
         "T3": "1.6",
         "TT4 Measured": "t",
         "TT4": "104",
         "T4U Measured": "t",
         "T4U": "1.12",
         "FTI Measured": "t",
         "FTI": "93",
         "TBG Measured": "f",
         "TBG": "?",
         "Referral Source": "other",
         "Class": 1,
         "_deepnote_index_column": 548
        },
        {
         "index": 296,
         "Age": "49",
         "Sex": "M",
         "On Thyroxine": "f",
         "Query on Thyroxine": "f",
         "On Antithyroid Medication": "f",
         "Sick": "f",
         "Pregnant": "f",
         "Thyroid Surgery": "f",
         "I131 Treatment": "f",
         "Query Hypothyroid": "f",
         "Query Hyperthyroid": "f",
         "Lithium": "f",
         "Goiter": "f",
         "Tumor": "f",
         "Hypopituitary": "f",
         "Psych": "f",
         "TSH Measured": "t",
         "TSH": "0.7",
         "T3 Measured": "t",
         "T3": "2.1",
         "TT4 Measured": "t",
         "TT4": "102",
         "T4U Measured": "t",
         "T4U": "0.93",
         "FTI Measured": "t",
         "FTI": "110",
         "TBG Measured": "f",
         "TBG": "?",
         "Referral Source": "SVI",
         "Class": 0,
         "_deepnote_index_column": 549
        },
        {
         "index": 1131,
         "Age": "35",
         "Sex": "M",
         "On Thyroxine": "f",
         "Query on Thyroxine": "f",
         "On Antithyroid Medication": "f",
         "Sick": "f",
         "Pregnant": "f",
         "Thyroid Surgery": "f",
         "I131 Treatment": "f",
         "Query Hypothyroid": "f",
         "Query Hyperthyroid": "f",
         "Lithium": "f",
         "Goiter": "f",
         "Tumor": "f",
         "Hypopituitary": "f",
         "Psych": "f",
         "TSH Measured": "t",
         "TSH": "0.2",
         "T3 Measured": "t",
         "T3": "1",
         "TT4 Measured": "t",
         "TT4": "68",
         "T4U Measured": "t",
         "T4U": "0.88",
         "FTI Measured": "t",
         "FTI": "78",
         "TBG Measured": "f",
         "TBG": "?",
         "Referral Source": "SVI",
         "Class": 0,
         "_deepnote_index_column": 550
        },
        {
         "index": 352,
         "Age": "59",
         "Sex": "F",
         "On Thyroxine": "f",
         "Query on Thyroxine": "f",
         "On Antithyroid Medication": "f",
         "Sick": "f",
         "Pregnant": "f",
         "Thyroid Surgery": "f",
         "I131 Treatment": "f",
         "Query Hypothyroid": "f",
         "Query Hyperthyroid": "f",
         "Lithium": "f",
         "Goiter": "f",
         "Tumor": "f",
         "Hypopituitary": "f",
         "Psych": "f",
         "TSH Measured": "t",
         "TSH": "0.09",
         "T3 Measured": "t",
         "T3": "1.3",
         "TT4 Measured": "t",
         "TT4": "80",
         "T4U Measured": "t",
         "T4U": "1.02",
         "FTI Measured": "t",
         "FTI": "79",
         "TBG Measured": "f",
         "TBG": "?",
         "Referral Source": "other",
         "Class": 0,
         "_deepnote_index_column": 551
        },
        {
         "index": 1993,
         "Age": "20",
         "Sex": "F",
         "On Thyroxine": "f",
         "Query on Thyroxine": "f",
         "On Antithyroid Medication": "f",
         "Sick": "f",
         "Pregnant": "f",
         "Thyroid Surgery": "f",
         "I131 Treatment": "f",
         "Query Hypothyroid": "f",
         "Query Hyperthyroid": "f",
         "Lithium": "f",
         "Goiter": "f",
         "Tumor": "f",
         "Hypopituitary": "f",
         "Psych": "f",
         "TSH Measured": "t",
         "TSH": "1.3",
         "T3 Measured": "t",
         "T3": "1.7",
         "TT4 Measured": "t",
         "TT4": "104",
         "T4U Measured": "t",
         "T4U": "0.96",
         "FTI Measured": "t",
         "FTI": "108",
         "TBG Measured": "f",
         "TBG": "?",
         "Referral Source": "other",
         "Class": 0,
         "_deepnote_index_column": 552
        },
        {
         "index": 2422,
         "Age": "72",
         "Sex": "F",
         "On Thyroxine": "f",
         "Query on Thyroxine": "f",
         "On Antithyroid Medication": "f",
         "Sick": "f",
         "Pregnant": "f",
         "Thyroid Surgery": "f",
         "I131 Treatment": "f",
         "Query Hypothyroid": "f",
         "Query Hyperthyroid": "f",
         "Lithium": "f",
         "Goiter": "f",
         "Tumor": "f",
         "Hypopituitary": "f",
         "Psych": "f",
         "TSH Measured": "t",
         "TSH": "0.015",
         "T3 Measured": "t",
         "T3": "2.9",
         "TT4 Measured": "t",
         "TT4": "198",
         "T4U Measured": "t",
         "T4U": "0.91",
         "FTI Measured": "t",
         "FTI": "217",
         "TBG Measured": "f",
         "TBG": "?",
         "Referral Source": "SVHC",
         "Class": 0,
         "_deepnote_index_column": 553
        },
        {
         "index": 2493,
         "Age": "47",
         "Sex": "F",
         "On Thyroxine": "f",
         "Query on Thyroxine": "f",
         "On Antithyroid Medication": "f",
         "Sick": "f",
         "Pregnant": "f",
         "Thyroid Surgery": "f",
         "I131 Treatment": "f",
         "Query Hypothyroid": "f",
         "Query Hyperthyroid": "f",
         "Lithium": "f",
         "Goiter": "f",
         "Tumor": "f",
         "Hypopituitary": "f",
         "Psych": "f",
         "TSH Measured": "t",
         "TSH": "1.1",
         "T3 Measured": "t",
         "T3": "2.8",
         "TT4 Measured": "t",
         "TT4": "96",
         "T4U Measured": "t",
         "T4U": "0.94",
         "FTI Measured": "t",
         "FTI": "103",
         "TBG Measured": "f",
         "TBG": "?",
         "Referral Source": "other",
         "Class": 0,
         "_deepnote_index_column": 554
        },
        {
         "index": 2184,
         "Age": "48",
         "Sex": "F",
         "On Thyroxine": "f",
         "Query on Thyroxine": "f",
         "On Antithyroid Medication": "f",
         "Sick": "f",
         "Pregnant": "f",
         "Thyroid Surgery": "f",
         "I131 Treatment": "f",
         "Query Hypothyroid": "f",
         "Query Hyperthyroid": "f",
         "Lithium": "f",
         "Goiter": "f",
         "Tumor": "f",
         "Hypopituitary": "f",
         "Psych": "f",
         "TSH Measured": "t",
         "TSH": "2.9",
         "T3 Measured": "t",
         "T3": "2.2",
         "TT4 Measured": "t",
         "TT4": "146",
         "T4U Measured": "t",
         "T4U": "1.48",
         "FTI Measured": "t",
         "FTI": "98",
         "TBG Measured": "f",
         "TBG": "?",
         "Referral Source": "SVI",
         "Class": 0,
         "_deepnote_index_column": 555
        },
        {
         "index": 1521,
         "Age": "34",
         "Sex": "F",
         "On Thyroxine": "t",
         "Query on Thyroxine": "f",
         "On Antithyroid Medication": "f",
         "Sick": "f",
         "Pregnant": "f",
         "Thyroid Surgery": "f",
         "I131 Treatment": "f",
         "Query Hypothyroid": "f",
         "Query Hyperthyroid": "f",
         "Lithium": "f",
         "Goiter": "f",
         "Tumor": "f",
         "Hypopituitary": "f",
         "Psych": "f",
         "TSH Measured": "t",
         "TSH": "0.005",
         "T3 Measured": "f",
         "T3": "?",
         "TT4 Measured": "t",
         "TT4": "166",
         "T4U Measured": "t",
         "T4U": "0.96",
         "FTI Measured": "t",
         "FTI": "174",
         "TBG Measured": "f",
         "TBG": "?",
         "Referral Source": "other",
         "Class": 0,
         "_deepnote_index_column": 556
        },
        {
         "index": 2519,
         "Age": "67",
         "Sex": "F",
         "On Thyroxine": "f",
         "Query on Thyroxine": "f",
         "On Antithyroid Medication": "f",
         "Sick": "f",
         "Pregnant": "f",
         "Thyroid Surgery": "f",
         "I131 Treatment": "f",
         "Query Hypothyroid": "f",
         "Query Hyperthyroid": "t",
         "Lithium": "f",
         "Goiter": "f",
         "Tumor": "t",
         "Hypopituitary": "f",
         "Psych": "f",
         "TSH Measured": "t",
         "TSH": "0.07",
         "T3 Measured": "t",
         "T3": "1.7",
         "TT4 Measured": "t",
         "TT4": "132",
         "T4U Measured": "t",
         "T4U": "1.02",
         "FTI Measured": "t",
         "FTI": "130",
         "TBG Measured": "f",
         "TBG": "?",
         "Referral Source": "other",
         "Class": 0,
         "_deepnote_index_column": 557
        },
        {
         "index": 1256,
         "Age": "24",
         "Sex": "F",
         "On Thyroxine": "f",
         "Query on Thyroxine": "f",
         "On Antithyroid Medication": "f",
         "Sick": "f",
         "Pregnant": "f",
         "Thyroid Surgery": "f",
         "I131 Treatment": "f",
         "Query Hypothyroid": "f",
         "Query Hyperthyroid": "f",
         "Lithium": "f",
         "Goiter": "f",
         "Tumor": "f",
         "Hypopituitary": "f",
         "Psych": "t",
         "TSH Measured": "t",
         "TSH": "1.7",
         "T3 Measured": "t",
         "T3": "2.4",
         "TT4 Measured": "t",
         "TT4": "126",
         "T4U Measured": "t",
         "T4U": "0.92",
         "FTI Measured": "t",
         "FTI": "136",
         "TBG Measured": "f",
         "TBG": "?",
         "Referral Source": "SVHC",
         "Class": 0,
         "_deepnote_index_column": 558
        },
        {
         "index": 3,
         "Age": "70",
         "Sex": "F",
         "On Thyroxine": "t",
         "Query on Thyroxine": "f",
         "On Antithyroid Medication": "f",
         "Sick": "f",
         "Pregnant": "f",
         "Thyroid Surgery": "f",
         "I131 Treatment": "f",
         "Query Hypothyroid": "f",
         "Query Hyperthyroid": "f",
         "Lithium": "f",
         "Goiter": "f",
         "Tumor": "f",
         "Hypopituitary": "f",
         "Psych": "f",
         "TSH Measured": "t",
         "TSH": "0.16",
         "T3 Measured": "t",
         "T3": "1.9",
         "TT4 Measured": "t",
         "TT4": "175",
         "T4U Measured": "f",
         "T4U": "?",
         "FTI Measured": "f",
         "FTI": "?",
         "TBG Measured": "f",
         "TBG": "?",
         "Referral Source": "other",
         "Class": 0,
         "_deepnote_index_column": 559
        }
       ]
      },
      "text/plain": "     index Age Sex On Thyroxine Query on Thyroxine On Antithyroid Medication  \\\n0      802  70   F            t                  f                         f   \n1     1366  18   ?            f                  f                         f   \n2      575  29   ?            f                  f                         f   \n3      687  39   F            f                  f                         f   \n4     1461  63   F            f                  f                         f   \n..     ...  ..  ..          ...                ...                       ...   \n555   2184  48   F            f                  f                         f   \n556   1521  34   F            t                  f                         f   \n557   2519  67   F            f                  f                         f   \n558   1256  24   F            f                  f                         f   \n559      3  70   F            t                  f                         f   \n\n    Sick Pregnant Thyroid Surgery I131 Treatment  ... TT4 Measured  TT4  \\\n0      f        f               f              f  ...            t  170   \n1      f        f               f              f  ...            t   86   \n2      f        f               f              f  ...            t   94   \n3      f        f               f              f  ...            f    ?   \n4      f        f               f              f  ...            t  118   \n..   ...      ...             ...            ...  ...          ...  ...   \n555    f        f               f              f  ...            t  146   \n556    f        f               f              f  ...            t  166   \n557    f        f               f              f  ...            t  132   \n558    f        f               f              f  ...            t  126   \n559    f        f               f              f  ...            t  175   \n\n    T4U Measured   T4U FTI Measured  FTI TBG Measured TBG Referral Source  \\\n0              t  0.99            t  171            f   ?            SVHD   \n1              t  0.91            t   94            f   ?             SVI   \n2              t  0.97            t   97            f   ?           other   \n3              f     ?            f    ?            f   ?             SVI   \n4              f     ?            f    ?            f   ?           other   \n..           ...   ...          ...  ...          ...  ..             ...   \n555            t  1.48            t   98            f   ?             SVI   \n556            t  0.96            t  174            f   ?           other   \n557            t  1.02            t  130            f   ?           other   \n558            t  0.92            t  136            f   ?            SVHC   \n559            f     ?            f    ?            f   ?           other   \n\n    Class  \n0       0  \n1       0  \n2       0  \n3       0  \n4       0  \n..    ...  \n555     0  \n556     0  \n557     0  \n558     0  \n559     0  \n\n[560 rows x 31 columns]",
      "text/html": "<div>\n<style scoped>\n    .dataframe tbody tr th:only-of-type {\n        vertical-align: middle;\n    }\n\n    .dataframe tbody tr th {\n        vertical-align: top;\n    }\n\n    .dataframe thead th {\n        text-align: right;\n    }\n</style>\n<table border=\"1\" class=\"dataframe\">\n  <thead>\n    <tr style=\"text-align: right;\">\n      <th></th>\n      <th>index</th>\n      <th>Age</th>\n      <th>Sex</th>\n      <th>On Thyroxine</th>\n      <th>Query on Thyroxine</th>\n      <th>On Antithyroid Medication</th>\n      <th>Sick</th>\n      <th>Pregnant</th>\n      <th>Thyroid Surgery</th>\n      <th>I131 Treatment</th>\n      <th>...</th>\n      <th>TT4 Measured</th>\n      <th>TT4</th>\n      <th>T4U Measured</th>\n      <th>T4U</th>\n      <th>FTI Measured</th>\n      <th>FTI</th>\n      <th>TBG Measured</th>\n      <th>TBG</th>\n      <th>Referral Source</th>\n      <th>Class</th>\n    </tr>\n  </thead>\n  <tbody>\n    <tr>\n      <th>0</th>\n      <td>802</td>\n      <td>70</td>\n      <td>F</td>\n      <td>t</td>\n      <td>f</td>\n      <td>f</td>\n      <td>f</td>\n      <td>f</td>\n      <td>f</td>\n      <td>f</td>\n      <td>...</td>\n      <td>t</td>\n      <td>170</td>\n      <td>t</td>\n      <td>0.99</td>\n      <td>t</td>\n      <td>171</td>\n      <td>f</td>\n      <td>?</td>\n      <td>SVHD</td>\n      <td>0</td>\n    </tr>\n    <tr>\n      <th>1</th>\n      <td>1366</td>\n      <td>18</td>\n      <td>?</td>\n      <td>f</td>\n      <td>f</td>\n      <td>f</td>\n      <td>f</td>\n      <td>f</td>\n      <td>f</td>\n      <td>f</td>\n      <td>...</td>\n      <td>t</td>\n      <td>86</td>\n      <td>t</td>\n      <td>0.91</td>\n      <td>t</td>\n      <td>94</td>\n      <td>f</td>\n      <td>?</td>\n      <td>SVI</td>\n      <td>0</td>\n    </tr>\n    <tr>\n      <th>2</th>\n      <td>575</td>\n      <td>29</td>\n      <td>?</td>\n      <td>f</td>\n      <td>f</td>\n      <td>f</td>\n      <td>f</td>\n      <td>f</td>\n      <td>f</td>\n      <td>f</td>\n      <td>...</td>\n      <td>t</td>\n      <td>94</td>\n      <td>t</td>\n      <td>0.97</td>\n      <td>t</td>\n      <td>97</td>\n      <td>f</td>\n      <td>?</td>\n      <td>other</td>\n      <td>0</td>\n    </tr>\n    <tr>\n      <th>3</th>\n      <td>687</td>\n      <td>39</td>\n      <td>F</td>\n      <td>f</td>\n      <td>f</td>\n      <td>f</td>\n      <td>f</td>\n      <td>f</td>\n      <td>f</td>\n      <td>f</td>\n      <td>...</td>\n      <td>f</td>\n      <td>?</td>\n      <td>f</td>\n      <td>?</td>\n      <td>f</td>\n      <td>?</td>\n      <td>f</td>\n      <td>?</td>\n      <td>SVI</td>\n      <td>0</td>\n    </tr>\n    <tr>\n      <th>4</th>\n      <td>1461</td>\n      <td>63</td>\n      <td>F</td>\n      <td>f</td>\n      <td>f</td>\n      <td>f</td>\n      <td>f</td>\n      <td>f</td>\n      <td>f</td>\n      <td>f</td>\n      <td>...</td>\n      <td>t</td>\n      <td>118</td>\n      <td>f</td>\n      <td>?</td>\n      <td>f</td>\n      <td>?</td>\n      <td>f</td>\n      <td>?</td>\n      <td>other</td>\n      <td>0</td>\n    </tr>\n    <tr>\n      <th>...</th>\n      <td>...</td>\n      <td>...</td>\n      <td>...</td>\n      <td>...</td>\n      <td>...</td>\n      <td>...</td>\n      <td>...</td>\n      <td>...</td>\n      <td>...</td>\n      <td>...</td>\n      <td>...</td>\n      <td>...</td>\n      <td>...</td>\n      <td>...</td>\n      <td>...</td>\n      <td>...</td>\n      <td>...</td>\n      <td>...</td>\n      <td>...</td>\n      <td>...</td>\n      <td>...</td>\n    </tr>\n    <tr>\n      <th>555</th>\n      <td>2184</td>\n      <td>48</td>\n      <td>F</td>\n      <td>f</td>\n      <td>f</td>\n      <td>f</td>\n      <td>f</td>\n      <td>f</td>\n      <td>f</td>\n      <td>f</td>\n      <td>...</td>\n      <td>t</td>\n      <td>146</td>\n      <td>t</td>\n      <td>1.48</td>\n      <td>t</td>\n      <td>98</td>\n      <td>f</td>\n      <td>?</td>\n      <td>SVI</td>\n      <td>0</td>\n    </tr>\n    <tr>\n      <th>556</th>\n      <td>1521</td>\n      <td>34</td>\n      <td>F</td>\n      <td>t</td>\n      <td>f</td>\n      <td>f</td>\n      <td>f</td>\n      <td>f</td>\n      <td>f</td>\n      <td>f</td>\n      <td>...</td>\n      <td>t</td>\n      <td>166</td>\n      <td>t</td>\n      <td>0.96</td>\n      <td>t</td>\n      <td>174</td>\n      <td>f</td>\n      <td>?</td>\n      <td>other</td>\n      <td>0</td>\n    </tr>\n    <tr>\n      <th>557</th>\n      <td>2519</td>\n      <td>67</td>\n      <td>F</td>\n      <td>f</td>\n      <td>f</td>\n      <td>f</td>\n      <td>f</td>\n      <td>f</td>\n      <td>f</td>\n      <td>f</td>\n      <td>...</td>\n      <td>t</td>\n      <td>132</td>\n      <td>t</td>\n      <td>1.02</td>\n      <td>t</td>\n      <td>130</td>\n      <td>f</td>\n      <td>?</td>\n      <td>other</td>\n      <td>0</td>\n    </tr>\n    <tr>\n      <th>558</th>\n      <td>1256</td>\n      <td>24</td>\n      <td>F</td>\n      <td>f</td>\n      <td>f</td>\n      <td>f</td>\n      <td>f</td>\n      <td>f</td>\n      <td>f</td>\n      <td>f</td>\n      <td>...</td>\n      <td>t</td>\n      <td>126</td>\n      <td>t</td>\n      <td>0.92</td>\n      <td>t</td>\n      <td>136</td>\n      <td>f</td>\n      <td>?</td>\n      <td>SVHC</td>\n      <td>0</td>\n    </tr>\n    <tr>\n      <th>559</th>\n      <td>3</td>\n      <td>70</td>\n      <td>F</td>\n      <td>t</td>\n      <td>f</td>\n      <td>f</td>\n      <td>f</td>\n      <td>f</td>\n      <td>f</td>\n      <td>f</td>\n      <td>...</td>\n      <td>t</td>\n      <td>175</td>\n      <td>f</td>\n      <td>?</td>\n      <td>f</td>\n      <td>?</td>\n      <td>f</td>\n      <td>?</td>\n      <td>other</td>\n      <td>0</td>\n    </tr>\n  </tbody>\n</table>\n<p>560 rows × 31 columns</p>\n</div>"
     },
     "metadata": {}
    }
   ],
   "execution_count": null
  },
  {
   "cell_type": "markdown",
   "source": "## 4. Clean/format the data\nNote: removing rows is probably a bad idea because you won't be able to do this to the test data!  Try to come up with some clever ways to handle the \"?\" values.",
   "metadata": {
    "cell_id": "00008-43af1456-7e88-4534-a7fc-be7ede5fadb4",
    "deepnote_cell_type": "markdown"
   }
  },
  {
   "cell_type": "code",
   "metadata": {
    "cell_id": "00009-92815a5f-a02e-43d5-b074-fcc5f13f1ad4",
    "deepnote_to_be_reexecuted": false,
    "source_hash": "e057d679",
    "execution_start": 1625514655888,
    "execution_millis": 5,
    "deepnote_cell_type": "code"
   },
   "source": "# change all ?s to -1\ndef handle_questions(df):\n    df.replace('?', 0, inplace=True)\n    return df\n\n# Make sure you do the same thing to train & val so the data is all formatted the same\ndata_train = handle_questions(data_train)\ndata_val = handle_questions(data_val)",
   "outputs": [],
   "execution_count": null
  },
  {
   "cell_type": "code",
   "metadata": {
    "cell_id": "00010-420d6821-cb34-441b-bf31-d696d0e2c694",
    "deepnote_to_be_reexecuted": false,
    "source_hash": "7843a424",
    "execution_start": 1625514658082,
    "execution_millis": 0,
    "deepnote_cell_type": "code"
   },
   "source": "def get_uninformative_columns(df):\n    \n    drop_columns = []\n    \n    for col in df.columns:\n        \n        # if this column has only one value, we can't learn anything from it\n        if(len(df[col].unique()) == 1):\n            drop_columns.append(col)\n            \n    return drop_columns\n\n\n# drop the uninformative features\ndrop_columns = get_uninformative_columns(data_train)\n\n# Make sure you do the same thing to train & val\ndata_train = data_train.drop(drop_columns, axis=1)\ndata_val = data_val.drop(drop_columns, axis=1)",
   "outputs": [],
   "execution_count": null
  },
  {
   "cell_type": "code",
   "metadata": {
    "colab": {
     "autoexec": {
      "startup": false,
      "wait_interval": 0
     }
    },
    "colab_type": "code",
    "id": "9QndSspU7lW4",
    "cell_id": "00011-c7f3ff79-3d31-43a3-9011-d5a29d8b44a2",
    "deepnote_to_be_reexecuted": false,
    "source_hash": "c0b9ae2c",
    "execution_start": 1625514659868,
    "execution_millis": 88,
    "deepnote_cell_type": "code"
   },
   "source": "# identify columns by what time of data they hold\nnumeric_columns = list([\"Age\",\"TSH\",\"T3\",\"TT4\",\"T4U\",\"FTI\"])\n\n# categorical columns are everything else (minus 'Class')\ncategorical_columns = list(set(data_train.columns)-set(numeric_columns)-set(['Class']))\n\n# convert numeric columns from strings to numbers\ndata_train[numeric_columns] = data_train[numeric_columns].apply(po.to_numeric)\ndata_val[numeric_columns] = data_val[numeric_columns].apply(po.to_numeric)\n\n# convert categorical columns to indicator (0, 1) variables\nfor col in categorical_columns:\n    data_train[col] = po.get_dummies(data_train[col], drop_first=True)\n\nfor col in categorical_columns:    \n    data_val[col] = po.get_dummies(data_val[col], drop_first=True)",
   "outputs": [
    {
     "output_type": "error",
     "ename": "ValueError",
     "evalue": "Wrong number of items passed 0, placement implies 1",
     "traceback": [
      "\u001b[0;31m---------------------------------------------------------------------------\u001b[0m",
      "\u001b[0;31mValueError\u001b[0m                                Traceback (most recent call last)",
      "\u001b[0;32m<ipython-input-185-d4b71e454dd0>\u001b[0m in \u001b[0;36m<module>\u001b[0;34m\u001b[0m\n\u001b[1;32m     14\u001b[0m \u001b[0;34m\u001b[0m\u001b[0m\n\u001b[1;32m     15\u001b[0m \u001b[0;32mfor\u001b[0m \u001b[0mcol\u001b[0m \u001b[0;32min\u001b[0m \u001b[0mcategorical_columns\u001b[0m\u001b[0;34m:\u001b[0m\u001b[0;34m\u001b[0m\u001b[0;34m\u001b[0m\u001b[0m\n\u001b[0;32m---> 16\u001b[0;31m     \u001b[0mdata_val\u001b[0m\u001b[0;34m[\u001b[0m\u001b[0mcol\u001b[0m\u001b[0;34m]\u001b[0m \u001b[0;34m=\u001b[0m \u001b[0mpo\u001b[0m\u001b[0;34m.\u001b[0m\u001b[0mget_dummies\u001b[0m\u001b[0;34m(\u001b[0m\u001b[0mdata_val\u001b[0m\u001b[0;34m[\u001b[0m\u001b[0mcol\u001b[0m\u001b[0;34m]\u001b[0m\u001b[0;34m,\u001b[0m \u001b[0mdrop_first\u001b[0m\u001b[0;34m=\u001b[0m\u001b[0;32mTrue\u001b[0m\u001b[0;34m)\u001b[0m\u001b[0;34m\u001b[0m\u001b[0;34m\u001b[0m\u001b[0m\n\u001b[0m",
      "\u001b[0;32m/shared-libs/python3.7/py/lib/python3.7/site-packages/pandas/core/frame.py\u001b[0m in \u001b[0;36m__setitem__\u001b[0;34m(self, key, value)\u001b[0m\n\u001b[1;32m   3161\u001b[0m         \u001b[0;32melse\u001b[0m\u001b[0;34m:\u001b[0m\u001b[0;34m\u001b[0m\u001b[0;34m\u001b[0m\u001b[0m\n\u001b[1;32m   3162\u001b[0m             \u001b[0;31m# set column\u001b[0m\u001b[0;34m\u001b[0m\u001b[0;34m\u001b[0m\u001b[0;34m\u001b[0m\u001b[0m\n\u001b[0;32m-> 3163\u001b[0;31m             \u001b[0mself\u001b[0m\u001b[0;34m.\u001b[0m\u001b[0m_set_item\u001b[0m\u001b[0;34m(\u001b[0m\u001b[0mkey\u001b[0m\u001b[0;34m,\u001b[0m \u001b[0mvalue\u001b[0m\u001b[0;34m)\u001b[0m\u001b[0;34m\u001b[0m\u001b[0;34m\u001b[0m\u001b[0m\n\u001b[0m\u001b[1;32m   3164\u001b[0m \u001b[0;34m\u001b[0m\u001b[0m\n\u001b[1;32m   3165\u001b[0m     \u001b[0;32mdef\u001b[0m \u001b[0m_setitem_slice\u001b[0m\u001b[0;34m(\u001b[0m\u001b[0mself\u001b[0m\u001b[0;34m,\u001b[0m \u001b[0mkey\u001b[0m\u001b[0;34m:\u001b[0m \u001b[0mslice\u001b[0m\u001b[0;34m,\u001b[0m \u001b[0mvalue\u001b[0m\u001b[0;34m)\u001b[0m\u001b[0;34m:\u001b[0m\u001b[0;34m\u001b[0m\u001b[0;34m\u001b[0m\u001b[0m\n",
      "\u001b[0;32m/shared-libs/python3.7/py/lib/python3.7/site-packages/pandas/core/frame.py\u001b[0m in \u001b[0;36m_set_item\u001b[0;34m(self, key, value)\u001b[0m\n\u001b[1;32m   3241\u001b[0m         \u001b[0mself\u001b[0m\u001b[0;34m.\u001b[0m\u001b[0m_ensure_valid_index\u001b[0m\u001b[0;34m(\u001b[0m\u001b[0mvalue\u001b[0m\u001b[0;34m)\u001b[0m\u001b[0;34m\u001b[0m\u001b[0;34m\u001b[0m\u001b[0m\n\u001b[1;32m   3242\u001b[0m         \u001b[0mvalue\u001b[0m \u001b[0;34m=\u001b[0m \u001b[0mself\u001b[0m\u001b[0;34m.\u001b[0m\u001b[0m_sanitize_column\u001b[0m\u001b[0;34m(\u001b[0m\u001b[0mkey\u001b[0m\u001b[0;34m,\u001b[0m \u001b[0mvalue\u001b[0m\u001b[0;34m)\u001b[0m\u001b[0;34m\u001b[0m\u001b[0;34m\u001b[0m\u001b[0m\n\u001b[0;32m-> 3243\u001b[0;31m         \u001b[0mNDFrame\u001b[0m\u001b[0;34m.\u001b[0m\u001b[0m_set_item\u001b[0m\u001b[0;34m(\u001b[0m\u001b[0mself\u001b[0m\u001b[0;34m,\u001b[0m \u001b[0mkey\u001b[0m\u001b[0;34m,\u001b[0m \u001b[0mvalue\u001b[0m\u001b[0;34m)\u001b[0m\u001b[0;34m\u001b[0m\u001b[0;34m\u001b[0m\u001b[0m\n\u001b[0m\u001b[1;32m   3244\u001b[0m \u001b[0;34m\u001b[0m\u001b[0m\n\u001b[1;32m   3245\u001b[0m         \u001b[0;31m# check if we are modifying a copy\u001b[0m\u001b[0;34m\u001b[0m\u001b[0;34m\u001b[0m\u001b[0;34m\u001b[0m\u001b[0m\n",
      "\u001b[0;32m/shared-libs/python3.7/py/lib/python3.7/site-packages/pandas/core/generic.py\u001b[0m in \u001b[0;36m_set_item\u001b[0;34m(self, key, value)\u001b[0m\n\u001b[1;32m   3830\u001b[0m             \u001b[0;32mreturn\u001b[0m\u001b[0;34m\u001b[0m\u001b[0;34m\u001b[0m\u001b[0m\n\u001b[1;32m   3831\u001b[0m \u001b[0;34m\u001b[0m\u001b[0m\n\u001b[0;32m-> 3832\u001b[0;31m         \u001b[0mNDFrame\u001b[0m\u001b[0;34m.\u001b[0m\u001b[0m_iset_item\u001b[0m\u001b[0;34m(\u001b[0m\u001b[0mself\u001b[0m\u001b[0;34m,\u001b[0m \u001b[0mloc\u001b[0m\u001b[0;34m,\u001b[0m \u001b[0mvalue\u001b[0m\u001b[0;34m)\u001b[0m\u001b[0;34m\u001b[0m\u001b[0;34m\u001b[0m\u001b[0m\n\u001b[0m\u001b[1;32m   3833\u001b[0m \u001b[0;34m\u001b[0m\u001b[0m\n\u001b[1;32m   3834\u001b[0m     \u001b[0;34m@\u001b[0m\u001b[0mfinal\u001b[0m\u001b[0;34m\u001b[0m\u001b[0;34m\u001b[0m\u001b[0m\n",
      "\u001b[0;32m/shared-libs/python3.7/py/lib/python3.7/site-packages/pandas/core/generic.py\u001b[0m in \u001b[0;36m_iset_item\u001b[0;34m(self, loc, value)\u001b[0m\n\u001b[1;32m   3819\u001b[0m \u001b[0;34m\u001b[0m\u001b[0m\n\u001b[1;32m   3820\u001b[0m     \u001b[0;32mdef\u001b[0m \u001b[0m_iset_item\u001b[0m\u001b[0;34m(\u001b[0m\u001b[0mself\u001b[0m\u001b[0;34m,\u001b[0m \u001b[0mloc\u001b[0m\u001b[0;34m:\u001b[0m \u001b[0mint\u001b[0m\u001b[0;34m,\u001b[0m \u001b[0mvalue\u001b[0m\u001b[0;34m)\u001b[0m \u001b[0;34m->\u001b[0m \u001b[0;32mNone\u001b[0m\u001b[0;34m:\u001b[0m\u001b[0;34m\u001b[0m\u001b[0;34m\u001b[0m\u001b[0m\n\u001b[0;32m-> 3821\u001b[0;31m         \u001b[0mself\u001b[0m\u001b[0;34m.\u001b[0m\u001b[0m_mgr\u001b[0m\u001b[0;34m.\u001b[0m\u001b[0miset\u001b[0m\u001b[0;34m(\u001b[0m\u001b[0mloc\u001b[0m\u001b[0;34m,\u001b[0m \u001b[0mvalue\u001b[0m\u001b[0;34m)\u001b[0m\u001b[0;34m\u001b[0m\u001b[0;34m\u001b[0m\u001b[0m\n\u001b[0m\u001b[1;32m   3822\u001b[0m         \u001b[0mself\u001b[0m\u001b[0;34m.\u001b[0m\u001b[0m_clear_item_cache\u001b[0m\u001b[0;34m(\u001b[0m\u001b[0;34m)\u001b[0m\u001b[0;34m\u001b[0m\u001b[0;34m\u001b[0m\u001b[0m\n\u001b[1;32m   3823\u001b[0m \u001b[0;34m\u001b[0m\u001b[0m\n",
      "\u001b[0;32m/shared-libs/python3.7/py/lib/python3.7/site-packages/pandas/core/internals/managers.py\u001b[0m in \u001b[0;36miset\u001b[0;34m(self, loc, value)\u001b[0m\n\u001b[1;32m   1162\u001b[0m                         \u001b[0mvalues\u001b[0m\u001b[0;34m=\u001b[0m\u001b[0mvalue_getitem\u001b[0m\u001b[0;34m(\u001b[0m\u001b[0munfit_val_items\u001b[0m\u001b[0;34m)\u001b[0m\u001b[0;34m,\u001b[0m\u001b[0;34m\u001b[0m\u001b[0;34m\u001b[0m\u001b[0m\n\u001b[1;32m   1163\u001b[0m                         \u001b[0mndim\u001b[0m\u001b[0;34m=\u001b[0m\u001b[0mself\u001b[0m\u001b[0;34m.\u001b[0m\u001b[0mndim\u001b[0m\u001b[0;34m,\u001b[0m\u001b[0;34m\u001b[0m\u001b[0;34m\u001b[0m\u001b[0m\n\u001b[0;32m-> 1164\u001b[0;31m                         \u001b[0mplacement\u001b[0m\u001b[0;34m=\u001b[0m\u001b[0munfit_mgr_locs\u001b[0m\u001b[0;34m,\u001b[0m\u001b[0;34m\u001b[0m\u001b[0;34m\u001b[0m\u001b[0m\n\u001b[0m\u001b[1;32m   1165\u001b[0m                     )\n\u001b[1;32m   1166\u001b[0m                 )\n",
      "\u001b[0;32m/shared-libs/python3.7/py/lib/python3.7/site-packages/pandas/core/internals/blocks.py\u001b[0m in \u001b[0;36mmake_block\u001b[0;34m(values, placement, klass, ndim, dtype)\u001b[0m\n\u001b[1;32m   2740\u001b[0m         \u001b[0mvalues\u001b[0m \u001b[0;34m=\u001b[0m \u001b[0mDatetimeArray\u001b[0m\u001b[0;34m.\u001b[0m\u001b[0m_simple_new\u001b[0m\u001b[0;34m(\u001b[0m\u001b[0mvalues\u001b[0m\u001b[0;34m,\u001b[0m \u001b[0mdtype\u001b[0m\u001b[0;34m=\u001b[0m\u001b[0mdtype\u001b[0m\u001b[0;34m)\u001b[0m\u001b[0;34m\u001b[0m\u001b[0;34m\u001b[0m\u001b[0m\n\u001b[1;32m   2741\u001b[0m \u001b[0;34m\u001b[0m\u001b[0m\n\u001b[0;32m-> 2742\u001b[0;31m     \u001b[0;32mreturn\u001b[0m \u001b[0mklass\u001b[0m\u001b[0;34m(\u001b[0m\u001b[0mvalues\u001b[0m\u001b[0;34m,\u001b[0m \u001b[0mndim\u001b[0m\u001b[0;34m=\u001b[0m\u001b[0mndim\u001b[0m\u001b[0;34m,\u001b[0m \u001b[0mplacement\u001b[0m\u001b[0;34m=\u001b[0m\u001b[0mplacement\u001b[0m\u001b[0;34m)\u001b[0m\u001b[0;34m\u001b[0m\u001b[0;34m\u001b[0m\u001b[0m\n\u001b[0m\u001b[1;32m   2743\u001b[0m \u001b[0;34m\u001b[0m\u001b[0m\n\u001b[1;32m   2744\u001b[0m \u001b[0;34m\u001b[0m\u001b[0m\n",
      "\u001b[0;32m/shared-libs/python3.7/py/lib/python3.7/site-packages/pandas/core/internals/blocks.py\u001b[0m in \u001b[0;36m__init__\u001b[0;34m(self, values, placement, ndim)\u001b[0m\n\u001b[1;32m    141\u001b[0m         \u001b[0;32mif\u001b[0m \u001b[0mself\u001b[0m\u001b[0;34m.\u001b[0m\u001b[0m_validate_ndim\u001b[0m \u001b[0;32mand\u001b[0m \u001b[0mself\u001b[0m\u001b[0;34m.\u001b[0m\u001b[0mndim\u001b[0m \u001b[0;32mand\u001b[0m \u001b[0mlen\u001b[0m\u001b[0;34m(\u001b[0m\u001b[0mself\u001b[0m\u001b[0;34m.\u001b[0m\u001b[0mmgr_locs\u001b[0m\u001b[0;34m)\u001b[0m \u001b[0;34m!=\u001b[0m \u001b[0mlen\u001b[0m\u001b[0;34m(\u001b[0m\u001b[0mself\u001b[0m\u001b[0;34m.\u001b[0m\u001b[0mvalues\u001b[0m\u001b[0;34m)\u001b[0m\u001b[0;34m:\u001b[0m\u001b[0;34m\u001b[0m\u001b[0;34m\u001b[0m\u001b[0m\n\u001b[1;32m    142\u001b[0m             raise ValueError(\n\u001b[0;32m--> 143\u001b[0;31m                 \u001b[0;34mf\"Wrong number of items passed {len(self.values)}, \"\u001b[0m\u001b[0;34m\u001b[0m\u001b[0;34m\u001b[0m\u001b[0m\n\u001b[0m\u001b[1;32m    144\u001b[0m                 \u001b[0;34mf\"placement implies {len(self.mgr_locs)}\"\u001b[0m\u001b[0;34m\u001b[0m\u001b[0;34m\u001b[0m\u001b[0m\n\u001b[1;32m    145\u001b[0m             )\n",
      "\u001b[0;31mValueError\u001b[0m: Wrong number of items passed 0, placement implies 1"
     ]
    }
   ],
   "execution_count": null
  },
  {
   "cell_type": "code",
   "metadata": {
    "tags": [],
    "cell_id": "00017-a372f4fc-3f0a-4ff7-8dd3-0d19368b20cc",
    "deepnote_to_be_reexecuted": false,
    "source_hash": "d050dfd4",
    "execution_start": 1625513216952,
    "execution_millis": 25,
    "deepnote_cell_type": "code"
   },
   "source": "data_train.info()",
   "outputs": [
    {
     "name": "stdout",
     "text": "<class 'pandas.core.frame.DataFrame'>\nRangeIndex: 22 entries, 0 to 21\nData columns (total 21 columns):\n #   Column                     Non-Null Count  Dtype\n---  ------                     --------------  -----\n 0   FTI Measured               22 non-null     uint8\n 1   Goiter                     22 non-null     uint8\n 2   Hypopituitary              22 non-null     uint8\n 3   I131 Treatment             22 non-null     uint8\n 4   Lithium                    22 non-null     uint8\n 5   On Antithyroid Medication  22 non-null     uint8\n 6   On Thyroxine               22 non-null     uint8\n 7   Pregnant                   22 non-null     uint8\n 8   Psych                      22 non-null     uint8\n 9   Query Hyperthyroid         22 non-null     uint8\n 10  Query Hypothyroid          22 non-null     uint8\n 11  Query on Thyroxine         22 non-null     uint8\n 12  Referral Source            22 non-null     uint8\n 13  Sex                        22 non-null     uint8\n 14  Sick                       22 non-null     uint8\n 15  T3 Measured                22 non-null     uint8\n 16  T4U Measured               22 non-null     uint8\n 17  TSH Measured               22 non-null     uint8\n 18  TT4 Measured               22 non-null     uint8\n 19  Thyroid Surgery            22 non-null     uint8\n 20  Tumor                      22 non-null     uint8\ndtypes: uint8(21)\nmemory usage: 590.0 bytes\n",
     "output_type": "stream"
    }
   ],
   "execution_count": null
  },
  {
   "cell_type": "code",
   "metadata": {
    "tags": [],
    "cell_id": "00018-7209a6b4-642e-4c95-93a2-69300eccfd9c",
    "deepnote_to_be_reexecuted": false,
    "source_hash": "764eaaac",
    "execution_start": 1625513035111,
    "execution_millis": 20,
    "deepnote_cell_type": "code"
   },
   "source": "data_val.info()",
   "outputs": [
    {
     "name": "stdout",
     "text": "<class 'pandas.core.frame.DataFrame'>\nRangeIndex: 22 entries, 0 to 21\nData columns (total 21 columns):\n #   Column                     Non-Null Count  Dtype\n---  ------                     --------------  -----\n 0   FTI Measured               22 non-null     uint8\n 1   Goiter                     22 non-null     uint8\n 2   Hypopituitary              22 non-null     uint8\n 3   I131 Treatment             22 non-null     uint8\n 4   Lithium                    22 non-null     uint8\n 5   On Antithyroid Medication  22 non-null     uint8\n 6   On Thyroxine               22 non-null     uint8\n 7   Pregnant                   22 non-null     uint8\n 8   Psych                      22 non-null     uint8\n 9   Query Hyperthyroid         22 non-null     uint8\n 10  Query Hypothyroid          22 non-null     uint8\n 11  Query on Thyroxine         22 non-null     uint8\n 12  Referral Source            22 non-null     uint8\n 13  Sex                        22 non-null     uint8\n 14  Sick                       22 non-null     uint8\n 15  T3 Measured                22 non-null     uint8\n 16  T4U Measured               22 non-null     uint8\n 17  TSH Measured               22 non-null     uint8\n 18  TT4 Measured               22 non-null     uint8\n 19  Thyroid Surgery            22 non-null     uint8\n 20  Tumor                      22 non-null     uint8\ndtypes: uint8(21)\nmemory usage: 590.0 bytes\n",
     "output_type": "stream"
    }
   ],
   "execution_count": null
  },
  {
   "cell_type": "markdown",
   "source": "## 5. Define and Train the Model\nYou might want to consider having one process for training on one dataset and evaluating on another.  That way you can use the same code for your train/validation as you do for your train/test",
   "metadata": {
    "cell_id": "00012-401e47dd-15fc-401a-ba7c-d33a42570685",
    "deepnote_cell_type": "markdown"
   }
  },
  {
   "cell_type": "code",
   "metadata": {
    "cell_id": "00013-e5bbacc0-db97-4e3f-8f08-b896d9754e18",
    "deepnote_to_be_reexecuted": false,
    "source_hash": "a42aca88",
    "execution_start": 1625512821583,
    "execution_millis": 5,
    "deepnote_cell_type": "code"
   },
   "source": "def my_classifier_predictions(data_train, data_predict):\n\n    feature_columns = list(set(data_train.columns)-set(['Class']))\n\n    X_train = data_train[feature_columns]\n    y_train = data_train['Class']\n    \n    X_val = data_predict[feature_columns]\n    \n    # For now, we'll just do logistic regression\n    from sklearn.linear_model import LogisticRegression\n    lr_model = LogisticRegression()\n\n    # fit the model to training data \n    lr_model.fit(X_train, y_train)\n\n    # apply the model to evaluation data\n    y_proba = lr_model.predict_proba(X_val)\n    \n    return y_proba",
   "outputs": [],
   "execution_count": null
  },
  {
   "cell_type": "code",
   "metadata": {
    "cell_id": "00014-80c329a1-a4a1-4e38-9d17-614f0156985d",
    "deepnote_to_be_reexecuted": false,
    "source_hash": "131a3163",
    "execution_start": 1625512824629,
    "execution_millis": 48,
    "deepnote_cell_type": "code"
   },
   "source": "# Predict on validation data\ny_val_proba = my_classifier_predictions(data_train, data_val)",
   "outputs": [
    {
     "output_type": "error",
     "ename": "KeyError",
     "evalue": "'Class'",
     "traceback": [
      "\u001b[0;31m---------------------------------------------------------------------------\u001b[0m",
      "\u001b[0;31mKeyError\u001b[0m                                  Traceback (most recent call last)",
      "\u001b[0;32m/shared-libs/python3.7/py/lib/python3.7/site-packages/pandas/core/indexes/base.py\u001b[0m in \u001b[0;36mget_loc\u001b[0;34m(self, key, method, tolerance)\u001b[0m\n\u001b[1;32m   3079\u001b[0m             \u001b[0;32mtry\u001b[0m\u001b[0;34m:\u001b[0m\u001b[0;34m\u001b[0m\u001b[0;34m\u001b[0m\u001b[0m\n\u001b[0;32m-> 3080\u001b[0;31m                 \u001b[0;32mreturn\u001b[0m \u001b[0mself\u001b[0m\u001b[0;34m.\u001b[0m\u001b[0m_engine\u001b[0m\u001b[0;34m.\u001b[0m\u001b[0mget_loc\u001b[0m\u001b[0;34m(\u001b[0m\u001b[0mcasted_key\u001b[0m\u001b[0;34m)\u001b[0m\u001b[0;34m\u001b[0m\u001b[0;34m\u001b[0m\u001b[0m\n\u001b[0m\u001b[1;32m   3081\u001b[0m             \u001b[0;32mexcept\u001b[0m \u001b[0mKeyError\u001b[0m \u001b[0;32mas\u001b[0m \u001b[0merr\u001b[0m\u001b[0;34m:\u001b[0m\u001b[0;34m\u001b[0m\u001b[0;34m\u001b[0m\u001b[0m\n",
      "\u001b[0;32mpandas/_libs/index.pyx\u001b[0m in \u001b[0;36mpandas._libs.index.IndexEngine.get_loc\u001b[0;34m()\u001b[0m\n",
      "\u001b[0;32mpandas/_libs/index.pyx\u001b[0m in \u001b[0;36mpandas._libs.index.IndexEngine.get_loc\u001b[0;34m()\u001b[0m\n",
      "\u001b[0;32mpandas/_libs/hashtable_class_helper.pxi\u001b[0m in \u001b[0;36mpandas._libs.hashtable.PyObjectHashTable.get_item\u001b[0;34m()\u001b[0m\n",
      "\u001b[0;32mpandas/_libs/hashtable_class_helper.pxi\u001b[0m in \u001b[0;36mpandas._libs.hashtable.PyObjectHashTable.get_item\u001b[0;34m()\u001b[0m\n",
      "\u001b[0;31mKeyError\u001b[0m: 'Class'",
      "\nThe above exception was the direct cause of the following exception:\n",
      "\u001b[0;31mKeyError\u001b[0m                                  Traceback (most recent call last)",
      "\u001b[0;32m<ipython-input-82-cf197438d3ed>\u001b[0m in \u001b[0;36m<module>\u001b[0;34m\u001b[0m\n\u001b[1;32m      1\u001b[0m \u001b[0;31m# Predict on validation data\u001b[0m\u001b[0;34m\u001b[0m\u001b[0;34m\u001b[0m\u001b[0;34m\u001b[0m\u001b[0m\n\u001b[0;32m----> 2\u001b[0;31m \u001b[0my_val_proba\u001b[0m \u001b[0;34m=\u001b[0m \u001b[0mmy_classifier_predictions\u001b[0m\u001b[0;34m(\u001b[0m\u001b[0mdata_train\u001b[0m\u001b[0;34m,\u001b[0m \u001b[0mdata_val\u001b[0m\u001b[0;34m)\u001b[0m\u001b[0;34m\u001b[0m\u001b[0;34m\u001b[0m\u001b[0m\n\u001b[0m",
      "\u001b[0;32m<ipython-input-81-12535dd94803>\u001b[0m in \u001b[0;36mmy_classifier_predictions\u001b[0;34m(data_train, data_predict)\u001b[0m\n\u001b[1;32m      4\u001b[0m \u001b[0;34m\u001b[0m\u001b[0m\n\u001b[1;32m      5\u001b[0m     \u001b[0mX_train\u001b[0m \u001b[0;34m=\u001b[0m \u001b[0mdata_train\u001b[0m\u001b[0;34m[\u001b[0m\u001b[0mfeature_columns\u001b[0m\u001b[0;34m]\u001b[0m\u001b[0;34m\u001b[0m\u001b[0;34m\u001b[0m\u001b[0m\n\u001b[0;32m----> 6\u001b[0;31m     \u001b[0my_train\u001b[0m \u001b[0;34m=\u001b[0m \u001b[0mdata_train\u001b[0m\u001b[0;34m[\u001b[0m\u001b[0;34m'Class'\u001b[0m\u001b[0;34m]\u001b[0m\u001b[0;34m\u001b[0m\u001b[0;34m\u001b[0m\u001b[0m\n\u001b[0m\u001b[1;32m      7\u001b[0m \u001b[0;34m\u001b[0m\u001b[0m\n\u001b[1;32m      8\u001b[0m     \u001b[0mX_val\u001b[0m \u001b[0;34m=\u001b[0m \u001b[0mdata_predict\u001b[0m\u001b[0;34m[\u001b[0m\u001b[0mfeature_columns\u001b[0m\u001b[0;34m]\u001b[0m\u001b[0;34m\u001b[0m\u001b[0;34m\u001b[0m\u001b[0m\n",
      "\u001b[0;32m/shared-libs/python3.7/py/lib/python3.7/site-packages/pandas/core/frame.py\u001b[0m in \u001b[0;36m__getitem__\u001b[0;34m(self, key)\u001b[0m\n\u001b[1;32m   3022\u001b[0m             \u001b[0;32mif\u001b[0m \u001b[0mself\u001b[0m\u001b[0;34m.\u001b[0m\u001b[0mcolumns\u001b[0m\u001b[0;34m.\u001b[0m\u001b[0mnlevels\u001b[0m \u001b[0;34m>\u001b[0m \u001b[0;36m1\u001b[0m\u001b[0;34m:\u001b[0m\u001b[0;34m\u001b[0m\u001b[0;34m\u001b[0m\u001b[0m\n\u001b[1;32m   3023\u001b[0m                 \u001b[0;32mreturn\u001b[0m \u001b[0mself\u001b[0m\u001b[0;34m.\u001b[0m\u001b[0m_getitem_multilevel\u001b[0m\u001b[0;34m(\u001b[0m\u001b[0mkey\u001b[0m\u001b[0;34m)\u001b[0m\u001b[0;34m\u001b[0m\u001b[0;34m\u001b[0m\u001b[0m\n\u001b[0;32m-> 3024\u001b[0;31m             \u001b[0mindexer\u001b[0m \u001b[0;34m=\u001b[0m \u001b[0mself\u001b[0m\u001b[0;34m.\u001b[0m\u001b[0mcolumns\u001b[0m\u001b[0;34m.\u001b[0m\u001b[0mget_loc\u001b[0m\u001b[0;34m(\u001b[0m\u001b[0mkey\u001b[0m\u001b[0;34m)\u001b[0m\u001b[0;34m\u001b[0m\u001b[0;34m\u001b[0m\u001b[0m\n\u001b[0m\u001b[1;32m   3025\u001b[0m             \u001b[0;32mif\u001b[0m \u001b[0mis_integer\u001b[0m\u001b[0;34m(\u001b[0m\u001b[0mindexer\u001b[0m\u001b[0;34m)\u001b[0m\u001b[0;34m:\u001b[0m\u001b[0;34m\u001b[0m\u001b[0;34m\u001b[0m\u001b[0m\n\u001b[1;32m   3026\u001b[0m                 \u001b[0mindexer\u001b[0m \u001b[0;34m=\u001b[0m \u001b[0;34m[\u001b[0m\u001b[0mindexer\u001b[0m\u001b[0;34m]\u001b[0m\u001b[0;34m\u001b[0m\u001b[0;34m\u001b[0m\u001b[0m\n",
      "\u001b[0;32m/shared-libs/python3.7/py/lib/python3.7/site-packages/pandas/core/indexes/base.py\u001b[0m in \u001b[0;36mget_loc\u001b[0;34m(self, key, method, tolerance)\u001b[0m\n\u001b[1;32m   3080\u001b[0m                 \u001b[0;32mreturn\u001b[0m \u001b[0mself\u001b[0m\u001b[0;34m.\u001b[0m\u001b[0m_engine\u001b[0m\u001b[0;34m.\u001b[0m\u001b[0mget_loc\u001b[0m\u001b[0;34m(\u001b[0m\u001b[0mcasted_key\u001b[0m\u001b[0;34m)\u001b[0m\u001b[0;34m\u001b[0m\u001b[0;34m\u001b[0m\u001b[0m\n\u001b[1;32m   3081\u001b[0m             \u001b[0;32mexcept\u001b[0m \u001b[0mKeyError\u001b[0m \u001b[0;32mas\u001b[0m \u001b[0merr\u001b[0m\u001b[0;34m:\u001b[0m\u001b[0;34m\u001b[0m\u001b[0;34m\u001b[0m\u001b[0m\n\u001b[0;32m-> 3082\u001b[0;31m                 \u001b[0;32mraise\u001b[0m \u001b[0mKeyError\u001b[0m\u001b[0;34m(\u001b[0m\u001b[0mkey\u001b[0m\u001b[0;34m)\u001b[0m \u001b[0;32mfrom\u001b[0m \u001b[0merr\u001b[0m\u001b[0;34m\u001b[0m\u001b[0;34m\u001b[0m\u001b[0m\n\u001b[0m\u001b[1;32m   3083\u001b[0m \u001b[0;34m\u001b[0m\u001b[0m\n\u001b[1;32m   3084\u001b[0m         \u001b[0;32mif\u001b[0m \u001b[0mtolerance\u001b[0m \u001b[0;32mis\u001b[0m \u001b[0;32mnot\u001b[0m \u001b[0;32mNone\u001b[0m\u001b[0;34m:\u001b[0m\u001b[0;34m\u001b[0m\u001b[0;34m\u001b[0m\u001b[0m\n",
      "\u001b[0;31mKeyError\u001b[0m: 'Class'"
     ]
    }
   ],
   "execution_count": null
  },
  {
   "cell_type": "markdown",
   "source": "## 6. Evaluate your model",
   "metadata": {
    "cell_id": "00015-b9022b84-52fc-43cb-b039-11c830bbd6ab",
    "deepnote_cell_type": "markdown"
   }
  },
  {
   "cell_type": "markdown",
   "source": "### Confusion Matrix Metric",
   "metadata": {
    "cell_id": "00016-3c1bde7b-5b42-4733-8654-523c285abbec",
    "deepnote_cell_type": "markdown"
   }
  },
  {
   "cell_type": "code",
   "metadata": {
    "cell_id": "00017-42fe766c-26e8-4fbc-b29f-d88601e1d9f6",
    "deepnote_cell_type": "code"
   },
   "source": "from sklearn.metrics import confusion_matrix\n\n# evaluate on validation set\ny_val = data_val['class']\n\n# This is exctly the first metric you'll be evaluated on!\n# Note: this will only work on the binary case -- let us know if you get to the multi-class case\n\ndef cm_metric(y_true,y_prob):\n    \n    # predict the class with the greatest probability\n    y_val_predict = [np.argmax(y) for y in y_prob]\n\n    # calculate the confusion matrix\n    cm = confusion_matrix(y_true, y_val_predict)\n\n    cm_norm = cm.astype('float') / cm.sum(axis=1)[:, np.newaxis]\n    print(cm_norm)\n    return sum(sum(np.multiply(cm_norm,np.array([[1, -2], [-2, 1]]))))\n\nprint('Confusion Matrix Metric: ',cm_metric(y_val,y_val_proba))",
   "outputs": [
    {
     "name": "stdout",
     "output_type": "stream",
     "text": "[[0.99612403 0.00387597]\n [0.45454545 0.54545455]]\nConfusion Matrix Metric:  0.6247357293868921\n"
    }
   ],
   "execution_count": null
  },
  {
   "cell_type": "markdown",
   "source": "### AUC",
   "metadata": {
    "cell_id": "00018-840f8d44-0053-43dd-b090-8a6d0d44e17b",
    "deepnote_cell_type": "markdown"
   }
  },
  {
   "cell_type": "code",
   "metadata": {
    "cell_id": "00019-9b55a41e-4b3a-4434-ba21-fdecc24ed1d8",
    "deepnote_cell_type": "code"
   },
   "source": "from sklearn.metrics import roc_curve\nfrom sklearn.metrics import auc\n\nfpr, tpr, threshold = roc_curve(y_val, y_val_proba[:,1])\nroc_auc = auc(fpr, tpr)\nprint('AUC: ',roc_auc)\n\n",
   "outputs": [
    {
     "name": "stdout",
     "output_type": "stream",
     "text": "AUC:  0.9931289640591966\n"
    }
   ],
   "execution_count": null
  },
  {
   "cell_type": "code",
   "metadata": {
    "cell_id": "00020-4b966855-3d63-4cee-b777-69f255d59ede",
    "deepnote_cell_type": "code"
   },
   "source": "import matplotlib.pyplot as plt\nplt.title('Receiver Operating Characteristic')\nplt.plot(fpr, tpr, 'b', label = 'AUC = %0.3f' % roc_auc)\nplt.legend(loc = 'lower right')\nplt.plot([0, 1], [0, 1],'r--')\nplt.xlim([0, 1])\nplt.ylim([0, 1])\nplt.ylabel('True Positive Rate')\nplt.xlabel('False Positive Rate')\nplt.show()",
   "outputs": [
    {
     "data": {
      "image/png": "[encoded data removed]",
      "text/plain": "<Figure size 432x288 with 1 Axes>"
     },
     "metadata": {
      "image/png": {
       "width": 394,
       "height": 278
      }
     },
     "output_type": "display_data"
    }
   ],
   "execution_count": null
  },
  {
   "cell_type": "markdown",
   "source": "## 7. Apply to test data\nOnce you're happy with your model, you should go through the same procedure again except:\n* train with ALL the training data (re-combine with training and validation)\n* test on test data (you won't be able to evaluate -- that's for us to do!)",
   "metadata": {
    "cell_id": "00021-944083a3-6494-4eaa-a09e-63485db68e3a",
    "deepnote_cell_type": "markdown"
   }
  },
  {
   "cell_type": "code",
   "metadata": {
    "cell_id": "00022-234e9b19-cfa7-46ac-b75f-b7ab68831ee9",
    "deepnote_cell_type": "code"
   },
   "source": "train_url = \"https://raw.githubusercontent.com/BeaverWorksMedlytics/datasets/master/allhypo.train.data.csv\"\ntest_url = \"https://raw.githubusercontent.com/BeaverWorksMedlytics/datasets/master/allhypo.test.data.csv\"\n\ndata_train = po.read_csv(train_url) \ndata_test = po.read_csv(test_url)   # this will not have a 'class' column!\n\n# format the wonky class labels\ndata_train = format_class_labels(data_train)\n\n# deal with question marks\ndata_train = handle_questions(data_train)\ndata_test = handle_questions(data_test)\n\n# drop uninformative columns\ndrop_columns = get_uninformative_columns(data_train)\ndata_train=data_train.drop(drop_columns,axis=1)\ndata_test=data_test.drop(drop_columns,axis=1)\n\n# format data\ndata_train = format_data(data_train, numeric_columns)\ndata_test = format_data(data_test, numeric_columns)\n\n# train and apply your classifier\ny_test_proba = my_classifier_predictions(data_train, data_test)",
   "outputs": [],
   "execution_count": null
  },
  {
   "cell_type": "markdown",
   "source": "## 8. Submit your attempt!",
   "metadata": {
    "cell_id": "00023-0809e1d2-4a54-4e62-9920-a8f11df4550b",
    "deepnote_cell_type": "markdown"
   }
  },
  {
   "cell_type": "markdown",
   "source": "Once you've run on the test data, send a pickle file containing your predictions contained a pandas dataframe.  This pandas dataframe will contain two columns for your binary classifier (or 4 columns for the multiclass classifier) that looks like this (*pay attention to the column names!*):\n\n|   | 0 | 1   |\n|---|---|------|\n| 0 | $p_{0,0}$ | $p_{0,1}$|\n| 1 | $p_{1,0}$ | $p_{1,1}$|\n| 2 | $p_{2,0}$ | $p_{2,1}$|\n| ... | ... | ...|\n| N | $p_{N,0}$ | $p_{N,1}$|\n\nwhere $p_{i,j}$ corresponds to the probability of data point $i$ belonging to class $j$.",
   "metadata": {
    "colab_type": "text",
    "id": "Wuexs1daLNBY",
    "cell_id": "00024-7fdcc115-e41e-402a-97b1-1e2d04e37b71",
    "deepnote_cell_type": "markdown"
   }
  },
  {
   "cell_type": "code",
   "metadata": {
    "colab": {
     "autoexec": {
      "startup": false,
      "wait_interval": 0
     }
    },
    "colab_type": "code",
    "id": "GkZOEgg3m3g1",
    "cell_id": "00025-a5d23b9b-c90e-4281-af38-366137771ce8",
    "deepnote_cell_type": "code"
   },
   "source": "from google.colab import files\nimport pickle\n\n# create a pickle file (this will save to the Google cloud)\nprediction_pickle_path = 'teamname_week1_attempt1.pkl'\nprediction_pickle = open(prediction_pickle_path, 'wb')\npickle.dump(y_test_proba, prediction_pickle)\n\n# download the pickle file and save it somewhere to your computer, and email it to \nfiles.download(prediction_pickle_path)\nprediction_pickle.close()",
   "execution_count": null,
   "outputs": []
  },
  {
   "cell_type": "markdown",
   "source": "# Moving to the Next Level",
   "metadata": {
    "colab_type": "text",
    "id": "w66lpbB6Qv_M",
    "cell_id": "00026-a0eca4d1-a635-4557-a7ce-5707a566ba98",
    "deepnote_cell_type": "markdown"
   }
  },
  {
   "cell_type": "markdown",
   "source": "For those that finish early, remember how I converted the class values into simply \"negative\" and \"positive\"? Now try tackling the multiclass classifier (predicting the different types of positive hypothyroid cases instead of simply negative or positive)! \n\nThe same rules apply!  (Note: for the multiclass problem, the AUC calculation will be the micro-average over your classes.)",
   "metadata": {
    "colab_type": "text",
    "id": "X-HZ12lht_so",
    "cell_id": "00027-ce83612c-e773-4870-905b-5c3319a85a18",
    "deepnote_cell_type": "markdown"
   }
  },
  {
   "cell_type": "markdown",
   "source": "<a style='text-decoration:none;line-height:16px;display:flex;color:#5B5B62;padding:10px;justify-content:end;' href='https://deepnote.com?utm_source=created-in-deepnote-cell&projectId=ae221d39-921e-4e1a-a30c-d47650081509' target=\"_blank\">\n<img alt='Created in deepnote.com' style='display:inline;max-height:16px;margin:0px;margin-right:7.5px;' src='data:image/svg+xml;base64,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' > </img>\nCreated in <span style='font-weight:600;margin-left:4px;'>Deepnote</span></a>",
   "metadata": {
    "tags": [],
    "created_in_deepnote_cell": true,
    "deepnote_cell_type": "markdown"
   }
  }
 ],
 "nbformat": 4,
 "nbformat_minor": 1,
 "metadata": {
  "colab": {
   "collapsed_sections": [],
   "default_view": {},
   "name": "Challenge_Project_STUDENT.ipynb",
   "provenance": [],
   "version": "0.3.2",
   "views": {}
  },
  "kernelspec": {
   "display_name": "Python 3",
   "language": "python",
   "name": "python3"
  },
  "language_info": {
   "codemirror_mode": {
    "name": "ipython",
    "version": 3
   },
   "file_extension": ".py",
   "mimetype": "text/x-python",
   "name": "python",
   "nbconvert_exporter": "python",
   "pygments_lexer": "ipython3",
   "version": "3.7.3"
  },
  "deepnote_notebook_id": "ea12a6cc-ea61-4d3a-aa92-f4875b34c493",
  "deepnote": {},
  "deepnote_execution_queue": []
 }
}